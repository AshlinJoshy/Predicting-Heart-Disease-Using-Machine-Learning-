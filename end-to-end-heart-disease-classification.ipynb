{
 "cells": [
  {
   "cell_type": "markdown",
   "id": "67912cea",
   "metadata": {},
   "source": [
    "# Predicting heart disease using machine learning\n",
    "\n",
    "This notebook looks into various Python-based libraries of machine learning and data science in an attempt to build a machine learning model capable of predicting wheather or not someone had heart disease or not based on their medical attributes.\n",
    "\n",
    "Approach used:\n",
    "1. Problem Definition\n",
    "2. Data\n",
    "3. Evaluation\n",
    "4. Features\n",
    "5. Modelling \n",
    "6. Experimentation\n"
   ]
  },
  {
   "cell_type": "markdown",
   "id": "0a103fe7",
   "metadata": {},
   "source": [
    "## 1.Problem Definition \n",
    ">Given clinical parameter about a patient can we predict weather or not they have heart disease?\n",
    "\n"
   ]
  },
  {
   "cell_type": "markdown",
   "id": "9adb118c",
   "metadata": {},
   "source": [
    "## 2.Data\n",
    "\n",
    "This database contains 76 attributes, but all published experiments refer to using a subset of 14 of them. In particular, the Cleveland database is the only one that has been used by ML researchers to this date.\n",
    "\n",
    "The \"goal\" field refers to the presence of heart disease in the patient. It is integer valued from 0 (no presence) to 4.\n",
    "\n",
    "**Kaggle Version** : https://www.kaggle.com/ronitf/heart-disease-uci\n",
    "\n",
    "**Original Database** : https://archive.ics.uci.edu/ml/datasets/heart+Disease\n",
    "\n",
    "\n"
   ]
  },
  {
   "cell_type": "markdown",
   "id": "3b42cc1a",
   "metadata": {},
   "source": [
    "## 3.Evaluation\n",
    ">If we can reach 90% accuracy at predicting wheather or not a person has a heart disease during the proof of concept , we'll pursue the project "
   ]
  },
  {
   "cell_type": "markdown",
   "id": "826b6ad2",
   "metadata": {},
   "source": [
    "## 4.Features\n",
    "\n",
    "**Create Data Directory**\n",
    "\n",
    "* age\n",
    "* sex\n",
    "* chest pain type (4 values)\n",
    "* resting blood pressure\n",
    "* serum cholestoral in mg/dl\n",
    "* fasting blood sugar > 120 mg/dl\n",
    "* resting electrocardiographic results (values 0,1,2)\n",
    "* maximum heart rate achieved\n",
    "* exercise induced angina\n",
    "* oldpeak = ST depression induced by exercise relative to rest\n",
    "* the slope of the peak exercise ST segment\n",
    "* number of major vessels (0-3) colored by flourosopy\n",
    "* thal: 3 = normal; 6 = fixed defect; 7 = reversable defect\n",
    "* Target 1 or 0"
   ]
  },
  {
   "cell_type": "markdown",
   "id": "c665c528",
   "metadata": {},
   "source": [
    "## Preparing the tools\n",
    "We are going to use Pandas,Matplotlib and NumPy for data Analysis and manipulation"
   ]
  },
  {
   "cell_type": "code",
   "execution_count": 51,
   "id": "c2bd5f7d",
   "metadata": {},
   "outputs": [],
   "source": [
    "# Importing all the tools we need\n",
    "\n",
    "# Regular EDA(exploratory data analysis) and plotting libraries\n",
    "\n",
    "import numpy as np\n",
    "import pandas as pd\n",
    "import matplotlib.pyplot as plt\n",
    "import seaborn as sns\n",
    "\n",
    "#Importing pycaret\n",
    "\n",
    "from pycaret.classification import *"
   ]
  },
  {
   "cell_type": "markdown",
   "id": "23ecb33a",
   "metadata": {},
   "source": [
    "# Models from sklearn\n",
    "from sklearn.linear_model import LogisticRegression\n",
    "from sklearn.neighbors import KNeighborsClassifier\n",
    "from sklearn.ensemble import RandomForestClassifier\n",
    "\n",
    "#Model Evaluations \n",
    "from sklearn.model_selection import train_test_split,cross_val_score\n",
    "from sklearn.model_selection import RandomizedSearchCV, GridSearchCV\n",
    "from sklearn.metrics import confusion_matrix,classification_report\n",
    "from sklearn.metrics import precision_score,recall_score,f1_score\n",
    "from sklearn.metrics import plot_roc_curve"
   ]
  },
  {
   "cell_type": "markdown",
   "id": "72507c45",
   "metadata": {},
   "source": [
    "### Import the dataset"
   ]
  },
  {
   "cell_type": "code",
   "execution_count": 52,
   "id": "13e56d53",
   "metadata": {},
   "outputs": [
    {
     "data": {
      "text/html": [
       "<div>\n",
       "<style scoped>\n",
       "    .dataframe tbody tr th:only-of-type {\n",
       "        vertical-align: middle;\n",
       "    }\n",
       "\n",
       "    .dataframe tbody tr th {\n",
       "        vertical-align: top;\n",
       "    }\n",
       "\n",
       "    .dataframe thead th {\n",
       "        text-align: right;\n",
       "    }\n",
       "</style>\n",
       "<table border=\"1\" class=\"dataframe\">\n",
       "  <thead>\n",
       "    <tr style=\"text-align: right;\">\n",
       "      <th></th>\n",
       "      <th>age</th>\n",
       "      <th>sex</th>\n",
       "      <th>cp</th>\n",
       "      <th>trestbps</th>\n",
       "      <th>chol</th>\n",
       "      <th>fbs</th>\n",
       "      <th>restecg</th>\n",
       "      <th>thalach</th>\n",
       "      <th>exang</th>\n",
       "      <th>oldpeak</th>\n",
       "      <th>slope</th>\n",
       "      <th>ca</th>\n",
       "      <th>thal</th>\n",
       "      <th>target</th>\n",
       "    </tr>\n",
       "  </thead>\n",
       "  <tbody>\n",
       "    <tr>\n",
       "      <th>0</th>\n",
       "      <td>63</td>\n",
       "      <td>1</td>\n",
       "      <td>3</td>\n",
       "      <td>145</td>\n",
       "      <td>233</td>\n",
       "      <td>1</td>\n",
       "      <td>0</td>\n",
       "      <td>150</td>\n",
       "      <td>0</td>\n",
       "      <td>2.3</td>\n",
       "      <td>0</td>\n",
       "      <td>0</td>\n",
       "      <td>1</td>\n",
       "      <td>1</td>\n",
       "    </tr>\n",
       "    <tr>\n",
       "      <th>1</th>\n",
       "      <td>37</td>\n",
       "      <td>1</td>\n",
       "      <td>2</td>\n",
       "      <td>130</td>\n",
       "      <td>250</td>\n",
       "      <td>0</td>\n",
       "      <td>1</td>\n",
       "      <td>187</td>\n",
       "      <td>0</td>\n",
       "      <td>3.5</td>\n",
       "      <td>0</td>\n",
       "      <td>0</td>\n",
       "      <td>2</td>\n",
       "      <td>1</td>\n",
       "    </tr>\n",
       "    <tr>\n",
       "      <th>2</th>\n",
       "      <td>41</td>\n",
       "      <td>0</td>\n",
       "      <td>1</td>\n",
       "      <td>130</td>\n",
       "      <td>204</td>\n",
       "      <td>0</td>\n",
       "      <td>0</td>\n",
       "      <td>172</td>\n",
       "      <td>0</td>\n",
       "      <td>1.4</td>\n",
       "      <td>2</td>\n",
       "      <td>0</td>\n",
       "      <td>2</td>\n",
       "      <td>1</td>\n",
       "    </tr>\n",
       "    <tr>\n",
       "      <th>3</th>\n",
       "      <td>56</td>\n",
       "      <td>1</td>\n",
       "      <td>1</td>\n",
       "      <td>120</td>\n",
       "      <td>236</td>\n",
       "      <td>0</td>\n",
       "      <td>1</td>\n",
       "      <td>178</td>\n",
       "      <td>0</td>\n",
       "      <td>0.8</td>\n",
       "      <td>2</td>\n",
       "      <td>0</td>\n",
       "      <td>2</td>\n",
       "      <td>1</td>\n",
       "    </tr>\n",
       "    <tr>\n",
       "      <th>4</th>\n",
       "      <td>57</td>\n",
       "      <td>0</td>\n",
       "      <td>0</td>\n",
       "      <td>120</td>\n",
       "      <td>354</td>\n",
       "      <td>0</td>\n",
       "      <td>1</td>\n",
       "      <td>163</td>\n",
       "      <td>1</td>\n",
       "      <td>0.6</td>\n",
       "      <td>2</td>\n",
       "      <td>0</td>\n",
       "      <td>2</td>\n",
       "      <td>1</td>\n",
       "    </tr>\n",
       "  </tbody>\n",
       "</table>\n",
       "</div>"
      ],
      "text/plain": [
       "   age  sex  cp  trestbps  chol  fbs  restecg  thalach  exang  oldpeak  slope  \\\n",
       "0   63    1   3       145   233    1        0      150      0      2.3      0   \n",
       "1   37    1   2       130   250    0        1      187      0      3.5      0   \n",
       "2   41    0   1       130   204    0        0      172      0      1.4      2   \n",
       "3   56    1   1       120   236    0        1      178      0      0.8      2   \n",
       "4   57    0   0       120   354    0        1      163      1      0.6      2   \n",
       "\n",
       "   ca  thal  target  \n",
       "0   0     1       1  \n",
       "1   0     2       1  \n",
       "2   0     2       1  \n",
       "3   0     2       1  \n",
       "4   0     2       1  "
      ]
     },
     "execution_count": 52,
     "metadata": {},
     "output_type": "execute_result"
    }
   ],
   "source": [
    "df = pd.read_csv(\"heart.csv\")\n",
    "df.head()"
   ]
  },
  {
   "cell_type": "code",
   "execution_count": 53,
   "id": "75d1f025",
   "metadata": {},
   "outputs": [
    {
     "data": {
      "text/plain": [
       "(303, 14)"
      ]
     },
     "execution_count": 53,
     "metadata": {},
     "output_type": "execute_result"
    }
   ],
   "source": [
    "df.shape"
   ]
  },
  {
   "cell_type": "code",
   "execution_count": 54,
   "id": "7a9760a2",
   "metadata": {},
   "outputs": [
    {
     "data": {
      "image/png": "[encoded data removed]",
      "text/plain": [
       "<Figure size 1080x720 with 16 Axes>"
      ]
     },
     "metadata": {},
     "output_type": "display_data"
    }
   ],
   "source": [
    "df.hist(figsize=(15, 10));"
   ]
  },
  {
   "cell_type": "code",
   "execution_count": 55,
   "id": "f0ef5862",
   "metadata": {},
   "outputs": [
    {
     "data": {
      "text/plain": [
       "1    165\n",
       "0    138\n",
       "Name: target, dtype: int64"
      ]
     },
     "execution_count": 55,
     "metadata": {},
     "output_type": "execute_result"
    }
   ],
   "source": [
    "df.target.value_counts()"
   ]
  },
  {
   "cell_type": "code",
   "execution_count": 56,
   "id": "0b2f9a57",
   "metadata": {},
   "outputs": [
    {
     "data": {
      "image/png": "[encoded data removed]",
      "text/plain": [
       "<Figure size 720x432 with 1 Axes>"
      ]
     },
     "metadata": {},
     "output_type": "display_data"
    }
   ],
   "source": [
    "df.target.value_counts().plot(kind= \"bar\",color = [\"seagreen\",\"lightblue\"],figsize=(10,6),xlabel = 'Heart Diseases',ylabel = \"No of entries\");"
   ]
  },
  {
   "cell_type": "code",
   "execution_count": 57,
   "id": "d1e058e8",
   "metadata": {},
   "outputs": [
    {
     "name": "stdout",
     "output_type": "stream",
     "text": [
      "<class 'pandas.core.frame.DataFrame'>\n",
      "RangeIndex: 303 entries, 0 to 302\n",
      "Data columns (total 14 columns):\n",
      " #   Column    Non-Null Count  Dtype  \n",
      "---  ------    --------------  -----  \n",
      " 0   age       303 non-null    int64  \n",
      " 1   sex       303 non-null    int64  \n",
      " 2   cp        303 non-null    int64  \n",
      " 3   trestbps  303 non-null    int64  \n",
      " 4   chol      303 non-null    int64  \n",
      " 5   fbs       303 non-null    int64  \n",
      " 6   restecg   303 non-null    int64  \n",
      " 7   thalach   303 non-null    int64  \n",
      " 8   exang     303 non-null    int64  \n",
      " 9   oldpeak   303 non-null    float64\n",
      " 10  slope     303 non-null    int64  \n",
      " 11  ca        303 non-null    int64  \n",
      " 12  thal      303 non-null    int64  \n",
      " 13  target    303 non-null    int64  \n",
      "dtypes: float64(1), int64(13)\n",
      "memory usage: 33.3 KB\n"
     ]
    }
   ],
   "source": [
    "df.info()"
   ]
  },
  {
   "cell_type": "code",
   "execution_count": 58,
   "id": "a37ca005",
   "metadata": {},
   "outputs": [
    {
     "data": {
      "text/plain": [
       "age         0\n",
       "sex         0\n",
       "cp          0\n",
       "trestbps    0\n",
       "chol        0\n",
       "fbs         0\n",
       "restecg     0\n",
       "thalach     0\n",
       "exang       0\n",
       "oldpeak     0\n",
       "slope       0\n",
       "ca          0\n",
       "thal        0\n",
       "target      0\n",
       "dtype: int64"
      ]
     },
     "execution_count": 58,
     "metadata": {},
     "output_type": "execute_result"
    }
   ],
   "source": [
    "#Are there any missning values\n",
    "df.isna().sum()"
   ]
  },
  {
   "cell_type": "code",
   "execution_count": 59,
   "id": "3bd95cd9",
   "metadata": {},
   "outputs": [
    {
     "data": {
      "text/html": [
       "<div>\n",
       "<style scoped>\n",
       "    .dataframe tbody tr th:only-of-type {\n",
       "        vertical-align: middle;\n",
       "    }\n",
       "\n",
       "    .dataframe tbody tr th {\n",
       "        vertical-align: top;\n",
       "    }\n",
       "\n",
       "    .dataframe thead th {\n",
       "        text-align: right;\n",
       "    }\n",
       "</style>\n",
       "<table border=\"1\" class=\"dataframe\">\n",
       "  <thead>\n",
       "    <tr style=\"text-align: right;\">\n",
       "      <th></th>\n",
       "      <th>age</th>\n",
       "      <th>sex</th>\n",
       "      <th>cp</th>\n",
       "      <th>trestbps</th>\n",
       "      <th>chol</th>\n",
       "      <th>fbs</th>\n",
       "      <th>restecg</th>\n",
       "      <th>thalach</th>\n",
       "      <th>exang</th>\n",
       "      <th>oldpeak</th>\n",
       "      <th>slope</th>\n",
       "      <th>ca</th>\n",
       "      <th>thal</th>\n",
       "      <th>target</th>\n",
       "    </tr>\n",
       "  </thead>\n",
       "  <tbody>\n",
       "    <tr>\n",
       "      <th>count</th>\n",
       "      <td>303.000000</td>\n",
       "      <td>303.000000</td>\n",
       "      <td>303.000000</td>\n",
       "      <td>303.000000</td>\n",
       "      <td>303.000000</td>\n",
       "      <td>303.000000</td>\n",
       "      <td>303.000000</td>\n",
       "      <td>303.000000</td>\n",
       "      <td>303.000000</td>\n",
       "      <td>303.000000</td>\n",
       "      <td>303.000000</td>\n",
       "      <td>303.000000</td>\n",
       "      <td>303.000000</td>\n",
       "      <td>303.000000</td>\n",
       "    </tr>\n",
       "    <tr>\n",
       "      <th>mean</th>\n",
       "      <td>54.366337</td>\n",
       "      <td>0.683168</td>\n",
       "      <td>0.966997</td>\n",
       "      <td>131.623762</td>\n",
       "      <td>246.264026</td>\n",
       "      <td>0.148515</td>\n",
       "      <td>0.528053</td>\n",
       "      <td>149.646865</td>\n",
       "      <td>0.326733</td>\n",
       "      <td>1.039604</td>\n",
       "      <td>1.399340</td>\n",
       "      <td>0.729373</td>\n",
       "      <td>2.313531</td>\n",
       "      <td>0.544554</td>\n",
       "    </tr>\n",
       "    <tr>\n",
       "      <th>std</th>\n",
       "      <td>9.082101</td>\n",
       "      <td>0.466011</td>\n",
       "      <td>1.032052</td>\n",
       "      <td>17.538143</td>\n",
       "      <td>51.830751</td>\n",
       "      <td>0.356198</td>\n",
       "      <td>0.525860</td>\n",
       "      <td>22.905161</td>\n",
       "      <td>0.469794</td>\n",
       "      <td>1.161075</td>\n",
       "      <td>0.616226</td>\n",
       "      <td>1.022606</td>\n",
       "      <td>0.612277</td>\n",
       "      <td>0.498835</td>\n",
       "    </tr>\n",
       "    <tr>\n",
       "      <th>min</th>\n",
       "      <td>29.000000</td>\n",
       "      <td>0.000000</td>\n",
       "      <td>0.000000</td>\n",
       "      <td>94.000000</td>\n",
       "      <td>126.000000</td>\n",
       "      <td>0.000000</td>\n",
       "      <td>0.000000</td>\n",
       "      <td>71.000000</td>\n",
       "      <td>0.000000</td>\n",
       "      <td>0.000000</td>\n",
       "      <td>0.000000</td>\n",
       "      <td>0.000000</td>\n",
       "      <td>0.000000</td>\n",
       "      <td>0.000000</td>\n",
       "    </tr>\n",
       "    <tr>\n",
       "      <th>25%</th>\n",
       "      <td>47.500000</td>\n",
       "      <td>0.000000</td>\n",
       "      <td>0.000000</td>\n",
       "      <td>120.000000</td>\n",
       "      <td>211.000000</td>\n",
       "      <td>0.000000</td>\n",
       "      <td>0.000000</td>\n",
       "      <td>133.500000</td>\n",
       "      <td>0.000000</td>\n",
       "      <td>0.000000</td>\n",
       "      <td>1.000000</td>\n",
       "      <td>0.000000</td>\n",
       "      <td>2.000000</td>\n",
       "      <td>0.000000</td>\n",
       "    </tr>\n",
       "    <tr>\n",
       "      <th>50%</th>\n",
       "      <td>55.000000</td>\n",
       "      <td>1.000000</td>\n",
       "      <td>1.000000</td>\n",
       "      <td>130.000000</td>\n",
       "      <td>240.000000</td>\n",
       "      <td>0.000000</td>\n",
       "      <td>1.000000</td>\n",
       "      <td>153.000000</td>\n",
       "      <td>0.000000</td>\n",
       "      <td>0.800000</td>\n",
       "      <td>1.000000</td>\n",
       "      <td>0.000000</td>\n",
       "      <td>2.000000</td>\n",
       "      <td>1.000000</td>\n",
       "    </tr>\n",
       "    <tr>\n",
       "      <th>75%</th>\n",
       "      <td>61.000000</td>\n",
       "      <td>1.000000</td>\n",
       "      <td>2.000000</td>\n",
       "      <td>140.000000</td>\n",
       "      <td>274.500000</td>\n",
       "      <td>0.000000</td>\n",
       "      <td>1.000000</td>\n",
       "      <td>166.000000</td>\n",
       "      <td>1.000000</td>\n",
       "      <td>1.600000</td>\n",
       "      <td>2.000000</td>\n",
       "      <td>1.000000</td>\n",
       "      <td>3.000000</td>\n",
       "      <td>1.000000</td>\n",
       "    </tr>\n",
       "    <tr>\n",
       "      <th>max</th>\n",
       "      <td>77.000000</td>\n",
       "      <td>1.000000</td>\n",
       "      <td>3.000000</td>\n",
       "      <td>200.000000</td>\n",
       "      <td>564.000000</td>\n",
       "      <td>1.000000</td>\n",
       "      <td>2.000000</td>\n",
       "      <td>202.000000</td>\n",
       "      <td>1.000000</td>\n",
       "      <td>6.200000</td>\n",
       "      <td>2.000000</td>\n",
       "      <td>4.000000</td>\n",
       "      <td>3.000000</td>\n",
       "      <td>1.000000</td>\n",
       "    </tr>\n",
       "  </tbody>\n",
       "</table>\n",
       "</div>"
      ],
      "text/plain": [
       "              age         sex          cp    trestbps        chol         fbs  \\\n",
       "count  303.000000  303.000000  303.000000  303.000000  303.000000  303.000000   \n",
       "mean    54.366337    0.683168    0.966997  131.623762  246.264026    0.148515   \n",
       "std      9.082101    0.466011    1.032052   17.538143   51.830751    0.356198   \n",
       "min     29.000000    0.000000    0.000000   94.000000  126.000000    0.000000   \n",
       "25%     47.500000    0.000000    0.000000  120.000000  211.000000    0.000000   \n",
       "50%     55.000000    1.000000    1.000000  130.000000  240.000000    0.000000   \n",
       "75%     61.000000    1.000000    2.000000  140.000000  274.500000    0.000000   \n",
       "max     77.000000    1.000000    3.000000  200.000000  564.000000    1.000000   \n",
       "\n",
       "          restecg     thalach       exang     oldpeak       slope          ca  \\\n",
       "count  303.000000  303.000000  303.000000  303.000000  303.000000  303.000000   \n",
       "mean     0.528053  149.646865    0.326733    1.039604    1.399340    0.729373   \n",
       "std      0.525860   22.905161    0.469794    1.161075    0.616226    1.022606   \n",
       "min      0.000000   71.000000    0.000000    0.000000    0.000000    0.000000   \n",
       "25%      0.000000  133.500000    0.000000    0.000000    1.000000    0.000000   \n",
       "50%      1.000000  153.000000    0.000000    0.800000    1.000000    0.000000   \n",
       "75%      1.000000  166.000000    1.000000    1.600000    2.000000    1.000000   \n",
       "max      2.000000  202.000000    1.000000    6.200000    2.000000    4.000000   \n",
       "\n",
       "             thal      target  \n",
       "count  303.000000  303.000000  \n",
       "mean     2.313531    0.544554  \n",
       "std      0.612277    0.498835  \n",
       "min      0.000000    0.000000  \n",
       "25%      2.000000    0.000000  \n",
       "50%      2.000000    1.000000  \n",
       "75%      3.000000    1.000000  \n",
       "max      3.000000    1.000000  "
      ]
     },
     "execution_count": 59,
     "metadata": {},
     "output_type": "execute_result"
    }
   ],
   "source": [
    "df.describe()"
   ]
  },
  {
   "cell_type": "markdown",
   "id": "01364a25",
   "metadata": {},
   "source": [
    "### Making a Correlation Matrix"
   ]
  },
  {
   "cell_type": "code",
   "execution_count": 60,
   "id": "7a8bbece",
   "metadata": {},
   "outputs": [
    {
     "data": {
      "image/png": "[encoded data removed]",
      "text/plain": [
       "<Figure size 1080x720 with 2 Axes>"
      ]
     },
     "metadata": {},
     "output_type": "display_data"
    }
   ],
   "source": [
    "corr_matrix = df.corr();\n",
    "fig,ax = plt.subplots(figsize = (15,10))\n",
    "ax = sns.heatmap(corr_matrix,\n",
    "                annot = True,\n",
    "                linewidth = 0.5,\n",
    "                fmt = \".2f\",\n",
    "                cmap = \"YlGnBu\");\n"
   ]
  },
  {
   "cell_type": "markdown",
   "id": "95ef1a96",
   "metadata": {},
   "source": [
    "## 5.Modelling "
   ]
  },
  {
   "cell_type": "code",
   "execution_count": 61,
   "id": "2c39c564",
   "metadata": {},
   "outputs": [],
   "source": [
    "# Preparing data for training the model\n",
    "\n",
    "categorical_val = []\n",
    "continous_val = []\n",
    "for column in df.columns:\n",
    "    if len(df[column].unique())<=9:\n",
    "        categorical_val.append(column)\n",
    "    else:\n",
    "        continous_val.append(column)"
   ]
  },
  {
   "cell_type": "code",
   "execution_count": 62,
   "id": "6475d27b",
   "metadata": {},
   "outputs": [
    {
     "data": {
      "text/plain": [
       "['sex', 'cp', 'fbs', 'restecg', 'exang', 'slope', 'ca', 'thal', 'target']"
      ]
     },
     "execution_count": 62,
     "metadata": {},
     "output_type": "execute_result"
    }
   ],
   "source": [
    "categorical_val"
   ]
  },
  {
   "cell_type": "code",
   "execution_count": 63,
   "id": "ae5b281d",
   "metadata": {},
   "outputs": [
    {
     "data": {
      "text/html": [
       "<div>\n",
       "<style scoped>\n",
       "    .dataframe tbody tr th:only-of-type {\n",
       "        vertical-align: middle;\n",
       "    }\n",
       "\n",
       "    .dataframe tbody tr th {\n",
       "        vertical-align: top;\n",
       "    }\n",
       "\n",
       "    .dataframe thead th {\n",
       "        text-align: right;\n",
       "    }\n",
       "</style>\n",
       "<table border=\"1\" class=\"dataframe\">\n",
       "  <thead>\n",
       "    <tr style=\"text-align: right;\">\n",
       "      <th></th>\n",
       "      <th>age</th>\n",
       "      <th>trestbps</th>\n",
       "      <th>chol</th>\n",
       "      <th>thalach</th>\n",
       "      <th>oldpeak</th>\n",
       "      <th>target</th>\n",
       "      <th>sex_0</th>\n",
       "      <th>sex_1</th>\n",
       "      <th>cp_0</th>\n",
       "      <th>cp_1</th>\n",
       "      <th>...</th>\n",
       "      <th>slope_2</th>\n",
       "      <th>ca_0</th>\n",
       "      <th>ca_1</th>\n",
       "      <th>ca_2</th>\n",
       "      <th>ca_3</th>\n",
       "      <th>ca_4</th>\n",
       "      <th>thal_0</th>\n",
       "      <th>thal_1</th>\n",
       "      <th>thal_2</th>\n",
       "      <th>thal_3</th>\n",
       "    </tr>\n",
       "  </thead>\n",
       "  <tbody>\n",
       "    <tr>\n",
       "      <th>0</th>\n",
       "      <td>63</td>\n",
       "      <td>145</td>\n",
       "      <td>233</td>\n",
       "      <td>150</td>\n",
       "      <td>2.3</td>\n",
       "      <td>1</td>\n",
       "      <td>0</td>\n",
       "      <td>1</td>\n",
       "      <td>0</td>\n",
       "      <td>0</td>\n",
       "      <td>...</td>\n",
       "      <td>0</td>\n",
       "      <td>1</td>\n",
       "      <td>0</td>\n",
       "      <td>0</td>\n",
       "      <td>0</td>\n",
       "      <td>0</td>\n",
       "      <td>0</td>\n",
       "      <td>1</td>\n",
       "      <td>0</td>\n",
       "      <td>0</td>\n",
       "    </tr>\n",
       "    <tr>\n",
       "      <th>1</th>\n",
       "      <td>37</td>\n",
       "      <td>130</td>\n",
       "      <td>250</td>\n",
       "      <td>187</td>\n",
       "      <td>3.5</td>\n",
       "      <td>1</td>\n",
       "      <td>0</td>\n",
       "      <td>1</td>\n",
       "      <td>0</td>\n",
       "      <td>0</td>\n",
       "      <td>...</td>\n",
       "      <td>0</td>\n",
       "      <td>1</td>\n",
       "      <td>0</td>\n",
       "      <td>0</td>\n",
       "      <td>0</td>\n",
       "      <td>0</td>\n",
       "      <td>0</td>\n",
       "      <td>0</td>\n",
       "      <td>1</td>\n",
       "      <td>0</td>\n",
       "    </tr>\n",
       "    <tr>\n",
       "      <th>2</th>\n",
       "      <td>41</td>\n",
       "      <td>130</td>\n",
       "      <td>204</td>\n",
       "      <td>172</td>\n",
       "      <td>1.4</td>\n",
       "      <td>1</td>\n",
       "      <td>1</td>\n",
       "      <td>0</td>\n",
       "      <td>0</td>\n",
       "      <td>1</td>\n",
       "      <td>...</td>\n",
       "      <td>1</td>\n",
       "      <td>1</td>\n",
       "      <td>0</td>\n",
       "      <td>0</td>\n",
       "      <td>0</td>\n",
       "      <td>0</td>\n",
       "      <td>0</td>\n",
       "      <td>0</td>\n",
       "      <td>1</td>\n",
       "      <td>0</td>\n",
       "    </tr>\n",
       "    <tr>\n",
       "      <th>3</th>\n",
       "      <td>56</td>\n",
       "      <td>120</td>\n",
       "      <td>236</td>\n",
       "      <td>178</td>\n",
       "      <td>0.8</td>\n",
       "      <td>1</td>\n",
       "      <td>0</td>\n",
       "      <td>1</td>\n",
       "      <td>0</td>\n",
       "      <td>1</td>\n",
       "      <td>...</td>\n",
       "      <td>1</td>\n",
       "      <td>1</td>\n",
       "      <td>0</td>\n",
       "      <td>0</td>\n",
       "      <td>0</td>\n",
       "      <td>0</td>\n",
       "      <td>0</td>\n",
       "      <td>0</td>\n",
       "      <td>1</td>\n",
       "      <td>0</td>\n",
       "    </tr>\n",
       "    <tr>\n",
       "      <th>4</th>\n",
       "      <td>57</td>\n",
       "      <td>120</td>\n",
       "      <td>354</td>\n",
       "      <td>163</td>\n",
       "      <td>0.6</td>\n",
       "      <td>1</td>\n",
       "      <td>1</td>\n",
       "      <td>0</td>\n",
       "      <td>1</td>\n",
       "      <td>0</td>\n",
       "      <td>...</td>\n",
       "      <td>1</td>\n",
       "      <td>1</td>\n",
       "      <td>0</td>\n",
       "      <td>0</td>\n",
       "      <td>0</td>\n",
       "      <td>0</td>\n",
       "      <td>0</td>\n",
       "      <td>0</td>\n",
       "      <td>1</td>\n",
       "      <td>0</td>\n",
       "    </tr>\n",
       "  </tbody>\n",
       "</table>\n",
       "<p>5 rows × 31 columns</p>\n",
       "</div>"
      ],
      "text/plain": [
       "   age  trestbps  chol  thalach  oldpeak  target  sex_0  sex_1  cp_0  cp_1  \\\n",
       "0   63       145   233      150      2.3       1      0      1     0     0   \n",
       "1   37       130   250      187      3.5       1      0      1     0     0   \n",
       "2   41       130   204      172      1.4       1      1      0     0     1   \n",
       "3   56       120   236      178      0.8       1      0      1     0     1   \n",
       "4   57       120   354      163      0.6       1      1      0     1     0   \n",
       "\n",
       "   ...  slope_2  ca_0  ca_1  ca_2  ca_3  ca_4  thal_0  thal_1  thal_2  thal_3  \n",
       "0  ...        0     1     0     0     0     0       0       1       0       0  \n",
       "1  ...        0     1     0     0     0     0       0       0       1       0  \n",
       "2  ...        1     1     0     0     0     0       0       0       1       0  \n",
       "3  ...        1     1     0     0     0     0       0       0       1       0  \n",
       "4  ...        1     1     0     0     0     0       0       0       1       0  \n",
       "\n",
       "[5 rows x 31 columns]"
      ]
     },
     "execution_count": 63,
     "metadata": {},
     "output_type": "execute_result"
    }
   ],
   "source": [
    "categorical_val.remove('target')\n",
    "dataset = pd.get_dummies(df, columns = categorical_val)\n",
    "dataset.head()"
   ]
  },
  {
   "cell_type": "code",
   "execution_count": 64,
   "id": "05e17800",
   "metadata": {},
   "outputs": [
    {
     "name": "stdout",
     "output_type": "stream",
     "text": [
      "Index(['age', 'sex', 'cp', 'trestbps', 'chol', 'fbs', 'restecg', 'thalach',\n",
      "       'exang', 'oldpeak', 'slope', 'ca', 'thal', 'target'],\n",
      "      dtype='object')\n",
      "Index(['age', 'trestbps', 'chol', 'thalach', 'oldpeak', 'target', 'sex_0',\n",
      "       'sex_1', 'cp_0', 'cp_1', 'cp_2', 'cp_3', 'fbs_0', 'fbs_1', 'restecg_0',\n",
      "       'restecg_1', 'restecg_2', 'exang_0', 'exang_1', 'slope_0', 'slope_1',\n",
      "       'slope_2', 'ca_0', 'ca_1', 'ca_2', 'ca_3', 'ca_4', 'thal_0', 'thal_1',\n",
      "       'thal_2', 'thal_3'],\n",
      "      dtype='object')\n"
     ]
    }
   ],
   "source": [
    "print(df.columns)\n",
    "print(dataset.columns)"
   ]
  },
  {
   "cell_type": "code",
   "execution_count": 65,
   "id": "45e12bc0",
   "metadata": {
    "collapsed": true
   },
   "outputs": [
    {
     "data": {
      "text/html": [
       "<style type=\"text/css\">\n",
       "#T_c52f2_row44_col1 {\n",
       "  background-color: lightgreen;\n",
       "}\n",
       "</style>\n",
       "<table id=\"T_c52f2\">\n",
       "  <thead>\n",
       "    <tr>\n",
       "      <th class=\"blank level0\" >&nbsp;</th>\n",
       "      <th id=\"T_c52f2_level0_col0\" class=\"col_heading level0 col0\" >Description</th>\n",
       "      <th id=\"T_c52f2_level0_col1\" class=\"col_heading level0 col1\" >Value</th>\n",
       "    </tr>\n",
       "  </thead>\n",
       "  <tbody>\n",
       "    <tr>\n",
       "      <th id=\"T_c52f2_level0_row0\" class=\"row_heading level0 row0\" >0</th>\n",
       "      <td id=\"T_c52f2_row0_col0\" class=\"data row0 col0\" >session_id</td>\n",
       "      <td id=\"T_c52f2_row0_col1\" class=\"data row0 col1\" >2136</td>\n",
       "    </tr>\n",
       "    <tr>\n",
       "      <th id=\"T_c52f2_level0_row1\" class=\"row_heading level0 row1\" >1</th>\n",
       "      <td id=\"T_c52f2_row1_col0\" class=\"data row1 col0\" >Target</td>\n",
       "      <td id=\"T_c52f2_row1_col1\" class=\"data row1 col1\" >target</td>\n",
       "    </tr>\n",
       "    <tr>\n",
       "      <th id=\"T_c52f2_level0_row2\" class=\"row_heading level0 row2\" >2</th>\n",
       "      <td id=\"T_c52f2_row2_col0\" class=\"data row2 col0\" >Target Type</td>\n",
       "      <td id=\"T_c52f2_row2_col1\" class=\"data row2 col1\" >Binary</td>\n",
       "    </tr>\n",
       "    <tr>\n",
       "      <th id=\"T_c52f2_level0_row3\" class=\"row_heading level0 row3\" >3</th>\n",
       "      <td id=\"T_c52f2_row3_col0\" class=\"data row3 col0\" >Label Encoded</td>\n",
       "      <td id=\"T_c52f2_row3_col1\" class=\"data row3 col1\" >None</td>\n",
       "    </tr>\n",
       "    <tr>\n",
       "      <th id=\"T_c52f2_level0_row4\" class=\"row_heading level0 row4\" >4</th>\n",
       "      <td id=\"T_c52f2_row4_col0\" class=\"data row4 col0\" >Original Data</td>\n",
       "      <td id=\"T_c52f2_row4_col1\" class=\"data row4 col1\" >(303, 31)</td>\n",
       "    </tr>\n",
       "    <tr>\n",
       "      <th id=\"T_c52f2_level0_row5\" class=\"row_heading level0 row5\" >5</th>\n",
       "      <td id=\"T_c52f2_row5_col0\" class=\"data row5 col0\" >Missing Values</td>\n",
       "      <td id=\"T_c52f2_row5_col1\" class=\"data row5 col1\" >False</td>\n",
       "    </tr>\n",
       "    <tr>\n",
       "      <th id=\"T_c52f2_level0_row6\" class=\"row_heading level0 row6\" >6</th>\n",
       "      <td id=\"T_c52f2_row6_col0\" class=\"data row6 col0\" >Numeric Features</td>\n",
       "      <td id=\"T_c52f2_row6_col1\" class=\"data row6 col1\" >30</td>\n",
       "    </tr>\n",
       "    <tr>\n",
       "      <th id=\"T_c52f2_level0_row7\" class=\"row_heading level0 row7\" >7</th>\n",
       "      <td id=\"T_c52f2_row7_col0\" class=\"data row7 col0\" >Categorical Features</td>\n",
       "      <td id=\"T_c52f2_row7_col1\" class=\"data row7 col1\" >0</td>\n",
       "    </tr>\n",
       "    <tr>\n",
       "      <th id=\"T_c52f2_level0_row8\" class=\"row_heading level0 row8\" >8</th>\n",
       "      <td id=\"T_c52f2_row8_col0\" class=\"data row8 col0\" >Ordinal Features</td>\n",
       "      <td id=\"T_c52f2_row8_col1\" class=\"data row8 col1\" >False</td>\n",
       "    </tr>\n",
       "    <tr>\n",
       "      <th id=\"T_c52f2_level0_row9\" class=\"row_heading level0 row9\" >9</th>\n",
       "      <td id=\"T_c52f2_row9_col0\" class=\"data row9 col0\" >High Cardinality Features</td>\n",
       "      <td id=\"T_c52f2_row9_col1\" class=\"data row9 col1\" >False</td>\n",
       "    </tr>\n",
       "    <tr>\n",
       "      <th id=\"T_c52f2_level0_row10\" class=\"row_heading level0 row10\" >10</th>\n",
       "      <td id=\"T_c52f2_row10_col0\" class=\"data row10 col0\" >High Cardinality Method</td>\n",
       "      <td id=\"T_c52f2_row10_col1\" class=\"data row10 col1\" >None</td>\n",
       "    </tr>\n",
       "    <tr>\n",
       "      <th id=\"T_c52f2_level0_row11\" class=\"row_heading level0 row11\" >11</th>\n",
       "      <td id=\"T_c52f2_row11_col0\" class=\"data row11 col0\" >Transformed Train Set</td>\n",
       "      <td id=\"T_c52f2_row11_col1\" class=\"data row11 col1\" >(212, 27)</td>\n",
       "    </tr>\n",
       "    <tr>\n",
       "      <th id=\"T_c52f2_level0_row12\" class=\"row_heading level0 row12\" >12</th>\n",
       "      <td id=\"T_c52f2_row12_col0\" class=\"data row12 col0\" >Transformed Test Set</td>\n",
       "      <td id=\"T_c52f2_row12_col1\" class=\"data row12 col1\" >(91, 27)</td>\n",
       "    </tr>\n",
       "    <tr>\n",
       "      <th id=\"T_c52f2_level0_row13\" class=\"row_heading level0 row13\" >13</th>\n",
       "      <td id=\"T_c52f2_row13_col0\" class=\"data row13 col0\" >Shuffle Train-Test</td>\n",
       "      <td id=\"T_c52f2_row13_col1\" class=\"data row13 col1\" >True</td>\n",
       "    </tr>\n",
       "    <tr>\n",
       "      <th id=\"T_c52f2_level0_row14\" class=\"row_heading level0 row14\" >14</th>\n",
       "      <td id=\"T_c52f2_row14_col0\" class=\"data row14 col0\" >Stratify Train-Test</td>\n",
       "      <td id=\"T_c52f2_row14_col1\" class=\"data row14 col1\" >False</td>\n",
       "    </tr>\n",
       "    <tr>\n",
       "      <th id=\"T_c52f2_level0_row15\" class=\"row_heading level0 row15\" >15</th>\n",
       "      <td id=\"T_c52f2_row15_col0\" class=\"data row15 col0\" >Fold Generator</td>\n",
       "      <td id=\"T_c52f2_row15_col1\" class=\"data row15 col1\" >StratifiedKFold</td>\n",
       "    </tr>\n",
       "    <tr>\n",
       "      <th id=\"T_c52f2_level0_row16\" class=\"row_heading level0 row16\" >16</th>\n",
       "      <td id=\"T_c52f2_row16_col0\" class=\"data row16 col0\" >Fold Number</td>\n",
       "      <td id=\"T_c52f2_row16_col1\" class=\"data row16 col1\" >10</td>\n",
       "    </tr>\n",
       "    <tr>\n",
       "      <th id=\"T_c52f2_level0_row17\" class=\"row_heading level0 row17\" >17</th>\n",
       "      <td id=\"T_c52f2_row17_col0\" class=\"data row17 col0\" >CPU Jobs</td>\n",
       "      <td id=\"T_c52f2_row17_col1\" class=\"data row17 col1\" >-1</td>\n",
       "    </tr>\n",
       "    <tr>\n",
       "      <th id=\"T_c52f2_level0_row18\" class=\"row_heading level0 row18\" >18</th>\n",
       "      <td id=\"T_c52f2_row18_col0\" class=\"data row18 col0\" >Use GPU</td>\n",
       "      <td id=\"T_c52f2_row18_col1\" class=\"data row18 col1\" >False</td>\n",
       "    </tr>\n",
       "    <tr>\n",
       "      <th id=\"T_c52f2_level0_row19\" class=\"row_heading level0 row19\" >19</th>\n",
       "      <td id=\"T_c52f2_row19_col0\" class=\"data row19 col0\" >Log Experiment</td>\n",
       "      <td id=\"T_c52f2_row19_col1\" class=\"data row19 col1\" >False</td>\n",
       "    </tr>\n",
       "    <tr>\n",
       "      <th id=\"T_c52f2_level0_row20\" class=\"row_heading level0 row20\" >20</th>\n",
       "      <td id=\"T_c52f2_row20_col0\" class=\"data row20 col0\" >Experiment Name</td>\n",
       "      <td id=\"T_c52f2_row20_col1\" class=\"data row20 col1\" >clf-default-name</td>\n",
       "    </tr>\n",
       "    <tr>\n",
       "      <th id=\"T_c52f2_level0_row21\" class=\"row_heading level0 row21\" >21</th>\n",
       "      <td id=\"T_c52f2_row21_col0\" class=\"data row21 col0\" >USI</td>\n",
       "      <td id=\"T_c52f2_row21_col1\" class=\"data row21 col1\" >0e23</td>\n",
       "    </tr>\n",
       "    <tr>\n",
       "      <th id=\"T_c52f2_level0_row22\" class=\"row_heading level0 row22\" >22</th>\n",
       "      <td id=\"T_c52f2_row22_col0\" class=\"data row22 col0\" >Imputation Type</td>\n",
       "      <td id=\"T_c52f2_row22_col1\" class=\"data row22 col1\" >simple</td>\n",
       "    </tr>\n",
       "    <tr>\n",
       "      <th id=\"T_c52f2_level0_row23\" class=\"row_heading level0 row23\" >23</th>\n",
       "      <td id=\"T_c52f2_row23_col0\" class=\"data row23 col0\" >Iterative Imputation Iteration</td>\n",
       "      <td id=\"T_c52f2_row23_col1\" class=\"data row23 col1\" >None</td>\n",
       "    </tr>\n",
       "    <tr>\n",
       "      <th id=\"T_c52f2_level0_row24\" class=\"row_heading level0 row24\" >24</th>\n",
       "      <td id=\"T_c52f2_row24_col0\" class=\"data row24 col0\" >Numeric Imputer</td>\n",
       "      <td id=\"T_c52f2_row24_col1\" class=\"data row24 col1\" >mean</td>\n",
       "    </tr>\n",
       "    <tr>\n",
       "      <th id=\"T_c52f2_level0_row25\" class=\"row_heading level0 row25\" >25</th>\n",
       "      <td id=\"T_c52f2_row25_col0\" class=\"data row25 col0\" >Iterative Imputation Numeric Model</td>\n",
       "      <td id=\"T_c52f2_row25_col1\" class=\"data row25 col1\" >None</td>\n",
       "    </tr>\n",
       "    <tr>\n",
       "      <th id=\"T_c52f2_level0_row26\" class=\"row_heading level0 row26\" >26</th>\n",
       "      <td id=\"T_c52f2_row26_col0\" class=\"data row26 col0\" >Categorical Imputer</td>\n",
       "      <td id=\"T_c52f2_row26_col1\" class=\"data row26 col1\" >constant</td>\n",
       "    </tr>\n",
       "    <tr>\n",
       "      <th id=\"T_c52f2_level0_row27\" class=\"row_heading level0 row27\" >27</th>\n",
       "      <td id=\"T_c52f2_row27_col0\" class=\"data row27 col0\" >Iterative Imputation Categorical Model</td>\n",
       "      <td id=\"T_c52f2_row27_col1\" class=\"data row27 col1\" >None</td>\n",
       "    </tr>\n",
       "    <tr>\n",
       "      <th id=\"T_c52f2_level0_row28\" class=\"row_heading level0 row28\" >28</th>\n",
       "      <td id=\"T_c52f2_row28_col0\" class=\"data row28 col0\" >Unknown Categoricals Handling</td>\n",
       "      <td id=\"T_c52f2_row28_col1\" class=\"data row28 col1\" >least_frequent</td>\n",
       "    </tr>\n",
       "    <tr>\n",
       "      <th id=\"T_c52f2_level0_row29\" class=\"row_heading level0 row29\" >29</th>\n",
       "      <td id=\"T_c52f2_row29_col0\" class=\"data row29 col0\" >Normalize</td>\n",
       "      <td id=\"T_c52f2_row29_col1\" class=\"data row29 col1\" >False</td>\n",
       "    </tr>\n",
       "    <tr>\n",
       "      <th id=\"T_c52f2_level0_row30\" class=\"row_heading level0 row30\" >30</th>\n",
       "      <td id=\"T_c52f2_row30_col0\" class=\"data row30 col0\" >Normalize Method</td>\n",
       "      <td id=\"T_c52f2_row30_col1\" class=\"data row30 col1\" >None</td>\n",
       "    </tr>\n",
       "    <tr>\n",
       "      <th id=\"T_c52f2_level0_row31\" class=\"row_heading level0 row31\" >31</th>\n",
       "      <td id=\"T_c52f2_row31_col0\" class=\"data row31 col0\" >Transformation</td>\n",
       "      <td id=\"T_c52f2_row31_col1\" class=\"data row31 col1\" >False</td>\n",
       "    </tr>\n",
       "    <tr>\n",
       "      <th id=\"T_c52f2_level0_row32\" class=\"row_heading level0 row32\" >32</th>\n",
       "      <td id=\"T_c52f2_row32_col0\" class=\"data row32 col0\" >Transformation Method</td>\n",
       "      <td id=\"T_c52f2_row32_col1\" class=\"data row32 col1\" >None</td>\n",
       "    </tr>\n",
       "    <tr>\n",
       "      <th id=\"T_c52f2_level0_row33\" class=\"row_heading level0 row33\" >33</th>\n",
       "      <td id=\"T_c52f2_row33_col0\" class=\"data row33 col0\" >PCA</td>\n",
       "      <td id=\"T_c52f2_row33_col1\" class=\"data row33 col1\" >False</td>\n",
       "    </tr>\n",
       "    <tr>\n",
       "      <th id=\"T_c52f2_level0_row34\" class=\"row_heading level0 row34\" >34</th>\n",
       "      <td id=\"T_c52f2_row34_col0\" class=\"data row34 col0\" >PCA Method</td>\n",
       "      <td id=\"T_c52f2_row34_col1\" class=\"data row34 col1\" >None</td>\n",
       "    </tr>\n",
       "    <tr>\n",
       "      <th id=\"T_c52f2_level0_row35\" class=\"row_heading level0 row35\" >35</th>\n",
       "      <td id=\"T_c52f2_row35_col0\" class=\"data row35 col0\" >PCA Components</td>\n",
       "      <td id=\"T_c52f2_row35_col1\" class=\"data row35 col1\" >None</td>\n",
       "    </tr>\n",
       "    <tr>\n",
       "      <th id=\"T_c52f2_level0_row36\" class=\"row_heading level0 row36\" >36</th>\n",
       "      <td id=\"T_c52f2_row36_col0\" class=\"data row36 col0\" >Ignore Low Variance</td>\n",
       "      <td id=\"T_c52f2_row36_col1\" class=\"data row36 col1\" >False</td>\n",
       "    </tr>\n",
       "    <tr>\n",
       "      <th id=\"T_c52f2_level0_row37\" class=\"row_heading level0 row37\" >37</th>\n",
       "      <td id=\"T_c52f2_row37_col0\" class=\"data row37 col0\" >Combine Rare Levels</td>\n",
       "      <td id=\"T_c52f2_row37_col1\" class=\"data row37 col1\" >False</td>\n",
       "    </tr>\n",
       "    <tr>\n",
       "      <th id=\"T_c52f2_level0_row38\" class=\"row_heading level0 row38\" >38</th>\n",
       "      <td id=\"T_c52f2_row38_col0\" class=\"data row38 col0\" >Rare Level Threshold</td>\n",
       "      <td id=\"T_c52f2_row38_col1\" class=\"data row38 col1\" >None</td>\n",
       "    </tr>\n",
       "    <tr>\n",
       "      <th id=\"T_c52f2_level0_row39\" class=\"row_heading level0 row39\" >39</th>\n",
       "      <td id=\"T_c52f2_row39_col0\" class=\"data row39 col0\" >Numeric Binning</td>\n",
       "      <td id=\"T_c52f2_row39_col1\" class=\"data row39 col1\" >False</td>\n",
       "    </tr>\n",
       "    <tr>\n",
       "      <th id=\"T_c52f2_level0_row40\" class=\"row_heading level0 row40\" >40</th>\n",
       "      <td id=\"T_c52f2_row40_col0\" class=\"data row40 col0\" >Remove Outliers</td>\n",
       "      <td id=\"T_c52f2_row40_col1\" class=\"data row40 col1\" >False</td>\n",
       "    </tr>\n",
       "    <tr>\n",
       "      <th id=\"T_c52f2_level0_row41\" class=\"row_heading level0 row41\" >41</th>\n",
       "      <td id=\"T_c52f2_row41_col0\" class=\"data row41 col0\" >Outliers Threshold</td>\n",
       "      <td id=\"T_c52f2_row41_col1\" class=\"data row41 col1\" >None</td>\n",
       "    </tr>\n",
       "    <tr>\n",
       "      <th id=\"T_c52f2_level0_row42\" class=\"row_heading level0 row42\" >42</th>\n",
       "      <td id=\"T_c52f2_row42_col0\" class=\"data row42 col0\" >Remove Multicollinearity</td>\n",
       "      <td id=\"T_c52f2_row42_col1\" class=\"data row42 col1\" >False</td>\n",
       "    </tr>\n",
       "    <tr>\n",
       "      <th id=\"T_c52f2_level0_row43\" class=\"row_heading level0 row43\" >43</th>\n",
       "      <td id=\"T_c52f2_row43_col0\" class=\"data row43 col0\" >Multicollinearity Threshold</td>\n",
       "      <td id=\"T_c52f2_row43_col1\" class=\"data row43 col1\" >None</td>\n",
       "    </tr>\n",
       "    <tr>\n",
       "      <th id=\"T_c52f2_level0_row44\" class=\"row_heading level0 row44\" >44</th>\n",
       "      <td id=\"T_c52f2_row44_col0\" class=\"data row44 col0\" >Remove Perfect Collinearity</td>\n",
       "      <td id=\"T_c52f2_row44_col1\" class=\"data row44 col1\" >True</td>\n",
       "    </tr>\n",
       "    <tr>\n",
       "      <th id=\"T_c52f2_level0_row45\" class=\"row_heading level0 row45\" >45</th>\n",
       "      <td id=\"T_c52f2_row45_col0\" class=\"data row45 col0\" >Clustering</td>\n",
       "      <td id=\"T_c52f2_row45_col1\" class=\"data row45 col1\" >False</td>\n",
       "    </tr>\n",
       "    <tr>\n",
       "      <th id=\"T_c52f2_level0_row46\" class=\"row_heading level0 row46\" >46</th>\n",
       "      <td id=\"T_c52f2_row46_col0\" class=\"data row46 col0\" >Clustering Iteration</td>\n",
       "      <td id=\"T_c52f2_row46_col1\" class=\"data row46 col1\" >None</td>\n",
       "    </tr>\n",
       "    <tr>\n",
       "      <th id=\"T_c52f2_level0_row47\" class=\"row_heading level0 row47\" >47</th>\n",
       "      <td id=\"T_c52f2_row47_col0\" class=\"data row47 col0\" >Polynomial Features</td>\n",
       "      <td id=\"T_c52f2_row47_col1\" class=\"data row47 col1\" >False</td>\n",
       "    </tr>\n",
       "    <tr>\n",
       "      <th id=\"T_c52f2_level0_row48\" class=\"row_heading level0 row48\" >48</th>\n",
       "      <td id=\"T_c52f2_row48_col0\" class=\"data row48 col0\" >Polynomial Degree</td>\n",
       "      <td id=\"T_c52f2_row48_col1\" class=\"data row48 col1\" >None</td>\n",
       "    </tr>\n",
       "    <tr>\n",
       "      <th id=\"T_c52f2_level0_row49\" class=\"row_heading level0 row49\" >49</th>\n",
       "      <td id=\"T_c52f2_row49_col0\" class=\"data row49 col0\" >Trignometry Features</td>\n",
       "      <td id=\"T_c52f2_row49_col1\" class=\"data row49 col1\" >False</td>\n",
       "    </tr>\n",
       "    <tr>\n",
       "      <th id=\"T_c52f2_level0_row50\" class=\"row_heading level0 row50\" >50</th>\n",
       "      <td id=\"T_c52f2_row50_col0\" class=\"data row50 col0\" >Polynomial Threshold</td>\n",
       "      <td id=\"T_c52f2_row50_col1\" class=\"data row50 col1\" >None</td>\n",
       "    </tr>\n",
       "    <tr>\n",
       "      <th id=\"T_c52f2_level0_row51\" class=\"row_heading level0 row51\" >51</th>\n",
       "      <td id=\"T_c52f2_row51_col0\" class=\"data row51 col0\" >Group Features</td>\n",
       "      <td id=\"T_c52f2_row51_col1\" class=\"data row51 col1\" >False</td>\n",
       "    </tr>\n",
       "    <tr>\n",
       "      <th id=\"T_c52f2_level0_row52\" class=\"row_heading level0 row52\" >52</th>\n",
       "      <td id=\"T_c52f2_row52_col0\" class=\"data row52 col0\" >Feature Selection</td>\n",
       "      <td id=\"T_c52f2_row52_col1\" class=\"data row52 col1\" >False</td>\n",
       "    </tr>\n",
       "    <tr>\n",
       "      <th id=\"T_c52f2_level0_row53\" class=\"row_heading level0 row53\" >53</th>\n",
       "      <td id=\"T_c52f2_row53_col0\" class=\"data row53 col0\" >Feature Selection Method</td>\n",
       "      <td id=\"T_c52f2_row53_col1\" class=\"data row53 col1\" >classic</td>\n",
       "    </tr>\n",
       "    <tr>\n",
       "      <th id=\"T_c52f2_level0_row54\" class=\"row_heading level0 row54\" >54</th>\n",
       "      <td id=\"T_c52f2_row54_col0\" class=\"data row54 col0\" >Features Selection Threshold</td>\n",
       "      <td id=\"T_c52f2_row54_col1\" class=\"data row54 col1\" >None</td>\n",
       "    </tr>\n",
       "    <tr>\n",
       "      <th id=\"T_c52f2_level0_row55\" class=\"row_heading level0 row55\" >55</th>\n",
       "      <td id=\"T_c52f2_row55_col0\" class=\"data row55 col0\" >Feature Interaction</td>\n",
       "      <td id=\"T_c52f2_row55_col1\" class=\"data row55 col1\" >False</td>\n",
       "    </tr>\n",
       "    <tr>\n",
       "      <th id=\"T_c52f2_level0_row56\" class=\"row_heading level0 row56\" >56</th>\n",
       "      <td id=\"T_c52f2_row56_col0\" class=\"data row56 col0\" >Feature Ratio</td>\n",
       "      <td id=\"T_c52f2_row56_col1\" class=\"data row56 col1\" >False</td>\n",
       "    </tr>\n",
       "    <tr>\n",
       "      <th id=\"T_c52f2_level0_row57\" class=\"row_heading level0 row57\" >57</th>\n",
       "      <td id=\"T_c52f2_row57_col0\" class=\"data row57 col0\" >Interaction Threshold</td>\n",
       "      <td id=\"T_c52f2_row57_col1\" class=\"data row57 col1\" >None</td>\n",
       "    </tr>\n",
       "    <tr>\n",
       "      <th id=\"T_c52f2_level0_row58\" class=\"row_heading level0 row58\" >58</th>\n",
       "      <td id=\"T_c52f2_row58_col0\" class=\"data row58 col0\" >Fix Imbalance</td>\n",
       "      <td id=\"T_c52f2_row58_col1\" class=\"data row58 col1\" >False</td>\n",
       "    </tr>\n",
       "    <tr>\n",
       "      <th id=\"T_c52f2_level0_row59\" class=\"row_heading level0 row59\" >59</th>\n",
       "      <td id=\"T_c52f2_row59_col0\" class=\"data row59 col0\" >Fix Imbalance Method</td>\n",
       "      <td id=\"T_c52f2_row59_col1\" class=\"data row59 col1\" >SMOTE</td>\n",
       "    </tr>\n",
       "  </tbody>\n",
       "</table>\n"
      ],
      "text/plain": [
       "<pandas.io.formats.style.Styler at 0x188080f0f40>"
      ]
     },
     "metadata": {},
     "output_type": "display_data"
    }
   ],
   "source": [
    "expriment  = setup(dataset,target = 'target')"
   ]
  },
  {
   "cell_type": "code",
   "execution_count": 67,
   "id": "ae25d1c8",
   "metadata": {},
   "outputs": [
    {
     "data": {
      "text/html": [
       "<style type=\"text/css\">\n",
       "#T_8c1ed th {\n",
       "  text-align: left;\n",
       "}\n",
       "#T_8c1ed_row0_col0, #T_8c1ed_row0_col2, #T_8c1ed_row0_col3, #T_8c1ed_row0_col4, #T_8c1ed_row1_col0, #T_8c1ed_row1_col1, #T_8c1ed_row1_col3, #T_8c1ed_row1_col5, #T_8c1ed_row1_col6, #T_8c1ed_row1_col7, #T_8c1ed_row2_col0, #T_8c1ed_row2_col1, #T_8c1ed_row2_col2, #T_8c1ed_row2_col3, #T_8c1ed_row2_col4, #T_8c1ed_row2_col5, #T_8c1ed_row2_col6, #T_8c1ed_row2_col7, #T_8c1ed_row3_col0, #T_8c1ed_row3_col1, #T_8c1ed_row3_col2, #T_8c1ed_row3_col3, #T_8c1ed_row3_col4, #T_8c1ed_row3_col5, #T_8c1ed_row3_col6, #T_8c1ed_row3_col7, #T_8c1ed_row4_col0, #T_8c1ed_row4_col1, #T_8c1ed_row4_col2, #T_8c1ed_row4_col3, #T_8c1ed_row4_col4, #T_8c1ed_row4_col5, #T_8c1ed_row4_col6, #T_8c1ed_row4_col7, #T_8c1ed_row5_col0, #T_8c1ed_row5_col1, #T_8c1ed_row5_col2, #T_8c1ed_row5_col3, #T_8c1ed_row5_col4, #T_8c1ed_row5_col5, #T_8c1ed_row5_col6, #T_8c1ed_row5_col7, #T_8c1ed_row6_col0, #T_8c1ed_row6_col1, #T_8c1ed_row6_col2, #T_8c1ed_row6_col3, #T_8c1ed_row6_col4, #T_8c1ed_row6_col5, #T_8c1ed_row6_col6, #T_8c1ed_row6_col7, #T_8c1ed_row7_col0, #T_8c1ed_row7_col1, #T_8c1ed_row7_col2, #T_8c1ed_row7_col3, #T_8c1ed_row7_col4, #T_8c1ed_row7_col5, #T_8c1ed_row7_col6, #T_8c1ed_row7_col7, #T_8c1ed_row8_col0, #T_8c1ed_row8_col1, #T_8c1ed_row8_col2, #T_8c1ed_row8_col3, #T_8c1ed_row8_col4, #T_8c1ed_row8_col5, #T_8c1ed_row8_col6, #T_8c1ed_row8_col7, #T_8c1ed_row9_col0, #T_8c1ed_row9_col1, #T_8c1ed_row9_col2, #T_8c1ed_row9_col3, #T_8c1ed_row9_col4, #T_8c1ed_row9_col5, #T_8c1ed_row9_col6, #T_8c1ed_row9_col7, #T_8c1ed_row10_col0, #T_8c1ed_row10_col1, #T_8c1ed_row10_col2, #T_8c1ed_row10_col3, #T_8c1ed_row10_col4, #T_8c1ed_row10_col5, #T_8c1ed_row10_col6, #T_8c1ed_row10_col7, #T_8c1ed_row11_col0, #T_8c1ed_row11_col1, #T_8c1ed_row11_col2, #T_8c1ed_row11_col3, #T_8c1ed_row11_col4, #T_8c1ed_row11_col5, #T_8c1ed_row11_col6, #T_8c1ed_row11_col7, #T_8c1ed_row12_col0, #T_8c1ed_row12_col1, #T_8c1ed_row12_col2, #T_8c1ed_row12_col3, #T_8c1ed_row12_col4, #T_8c1ed_row12_col5, #T_8c1ed_row12_col6, #T_8c1ed_row12_col7, #T_8c1ed_row13_col0, #T_8c1ed_row13_col1, #T_8c1ed_row13_col2, #T_8c1ed_row13_col4, #T_8c1ed_row13_col5, #T_8c1ed_row13_col6, #T_8c1ed_row13_col7 {\n",
       "  text-align: left;\n",
       "}\n",
       "#T_8c1ed_row0_col1, #T_8c1ed_row0_col5, #T_8c1ed_row0_col6, #T_8c1ed_row0_col7, #T_8c1ed_row1_col2, #T_8c1ed_row1_col4, #T_8c1ed_row13_col3 {\n",
       "  text-align: left;\n",
       "  background-color: yellow;\n",
       "}\n",
       "#T_8c1ed_row0_col8, #T_8c1ed_row1_col8, #T_8c1ed_row2_col8, #T_8c1ed_row3_col8, #T_8c1ed_row4_col8, #T_8c1ed_row5_col8, #T_8c1ed_row6_col8, #T_8c1ed_row7_col8, #T_8c1ed_row8_col8, #T_8c1ed_row9_col8, #T_8c1ed_row10_col8, #T_8c1ed_row11_col8, #T_8c1ed_row12_col8 {\n",
       "  text-align: left;\n",
       "  background-color: lightgrey;\n",
       "}\n",
       "#T_8c1ed_row13_col8 {\n",
       "  text-align: left;\n",
       "  background-color: yellow;\n",
       "  background-color: lightgrey;\n",
       "}\n",
       "</style>\n",
       "<table id=\"T_8c1ed\">\n",
       "  <thead>\n",
       "    <tr>\n",
       "      <th class=\"blank level0\" >&nbsp;</th>\n",
       "      <th id=\"T_8c1ed_level0_col0\" class=\"col_heading level0 col0\" >Model</th>\n",
       "      <th id=\"T_8c1ed_level0_col1\" class=\"col_heading level0 col1\" >Accuracy</th>\n",
       "      <th id=\"T_8c1ed_level0_col2\" class=\"col_heading level0 col2\" >AUC</th>\n",
       "      <th id=\"T_8c1ed_level0_col3\" class=\"col_heading level0 col3\" >Recall</th>\n",
       "      <th id=\"T_8c1ed_level0_col4\" class=\"col_heading level0 col4\" >Prec.</th>\n",
       "      <th id=\"T_8c1ed_level0_col5\" class=\"col_heading level0 col5\" >F1</th>\n",
       "      <th id=\"T_8c1ed_level0_col6\" class=\"col_heading level0 col6\" >Kappa</th>\n",
       "      <th id=\"T_8c1ed_level0_col7\" class=\"col_heading level0 col7\" >MCC</th>\n",
       "      <th id=\"T_8c1ed_level0_col8\" class=\"col_heading level0 col8\" >TT (Sec)</th>\n",
       "    </tr>\n",
       "  </thead>\n",
       "  <tbody>\n",
       "    <tr>\n",
       "      <th id=\"T_8c1ed_level0_row0\" class=\"row_heading level0 row0\" >lr</th>\n",
       "      <td id=\"T_8c1ed_row0_col0\" class=\"data row0 col0\" >Logistic Regression</td>\n",
       "      <td id=\"T_8c1ed_row0_col1\" class=\"data row0 col1\" >0.8437</td>\n",
       "      <td id=\"T_8c1ed_row0_col2\" class=\"data row0 col2\" >0.9144</td>\n",
       "      <td id=\"T_8c1ed_row0_col3\" class=\"data row0 col3\" >0.8871</td>\n",
       "      <td id=\"T_8c1ed_row0_col4\" class=\"data row0 col4\" >0.8494</td>\n",
       "      <td id=\"T_8c1ed_row0_col5\" class=\"data row0 col5\" >0.8615</td>\n",
       "      <td id=\"T_8c1ed_row0_col6\" class=\"data row0 col6\" >0.6834</td>\n",
       "      <td id=\"T_8c1ed_row0_col7\" class=\"data row0 col7\" >0.6971</td>\n",
       "      <td id=\"T_8c1ed_row0_col8\" class=\"data row0 col8\" >0.0300</td>\n",
       "    </tr>\n",
       "    <tr>\n",
       "      <th id=\"T_8c1ed_level0_row1\" class=\"row_heading level0 row1\" >rf</th>\n",
       "      <td id=\"T_8c1ed_row1_col0\" class=\"data row1 col0\" >Random Forest Classifier</td>\n",
       "      <td id=\"T_8c1ed_row1_col1\" class=\"data row1 col1\" >0.8392</td>\n",
       "      <td id=\"T_8c1ed_row1_col2\" class=\"data row1 col2\" >0.9182</td>\n",
       "      <td id=\"T_8c1ed_row1_col3\" class=\"data row1 col3\" >0.8697</td>\n",
       "      <td id=\"T_8c1ed_row1_col4\" class=\"data row1 col4\" >0.8498</td>\n",
       "      <td id=\"T_8c1ed_row1_col5\" class=\"data row1 col5\" >0.8550</td>\n",
       "      <td id=\"T_8c1ed_row1_col6\" class=\"data row1 col6\" >0.6748</td>\n",
       "      <td id=\"T_8c1ed_row1_col7\" class=\"data row1 col7\" >0.6842</td>\n",
       "      <td id=\"T_8c1ed_row1_col8\" class=\"data row1 col8\" >0.0400</td>\n",
       "    </tr>\n",
       "    <tr>\n",
       "      <th id=\"T_8c1ed_level0_row2\" class=\"row_heading level0 row2\" >ridge</th>\n",
       "      <td id=\"T_8c1ed_row2_col0\" class=\"data row2 col0\" >Ridge Classifier</td>\n",
       "      <td id=\"T_8c1ed_row2_col1\" class=\"data row2 col1\" >0.8390</td>\n",
       "      <td id=\"T_8c1ed_row2_col2\" class=\"data row2 col2\" >0.0000</td>\n",
       "      <td id=\"T_8c1ed_row2_col3\" class=\"data row2 col3\" >0.8780</td>\n",
       "      <td id=\"T_8c1ed_row2_col4\" class=\"data row2 col4\" >0.8451</td>\n",
       "      <td id=\"T_8c1ed_row2_col5\" class=\"data row2 col5\" >0.8550</td>\n",
       "      <td id=\"T_8c1ed_row2_col6\" class=\"data row2 col6\" >0.6742</td>\n",
       "      <td id=\"T_8c1ed_row2_col7\" class=\"data row2 col7\" >0.6873</td>\n",
       "      <td id=\"T_8c1ed_row2_col8\" class=\"data row2 col8\" >0.0030</td>\n",
       "    </tr>\n",
       "    <tr>\n",
       "      <th id=\"T_8c1ed_level0_row3\" class=\"row_heading level0 row3\" >et</th>\n",
       "      <td id=\"T_8c1ed_row3_col0\" class=\"data row3 col0\" >Extra Trees Classifier</td>\n",
       "      <td id=\"T_8c1ed_row3_col1\" class=\"data row3 col1\" >0.8299</td>\n",
       "      <td id=\"T_8c1ed_row3_col2\" class=\"data row3 col2\" >0.9055</td>\n",
       "      <td id=\"T_8c1ed_row3_col3\" class=\"data row3 col3\" >0.8712</td>\n",
       "      <td id=\"T_8c1ed_row3_col4\" class=\"data row3 col4\" >0.8377</td>\n",
       "      <td id=\"T_8c1ed_row3_col5\" class=\"data row3 col5\" >0.8471</td>\n",
       "      <td id=\"T_8c1ed_row3_col6\" class=\"data row3 col6\" >0.6555</td>\n",
       "      <td id=\"T_8c1ed_row3_col7\" class=\"data row3 col7\" >0.6719</td>\n",
       "      <td id=\"T_8c1ed_row3_col8\" class=\"data row3 col8\" >0.0350</td>\n",
       "    </tr>\n",
       "    <tr>\n",
       "      <th id=\"T_8c1ed_level0_row4\" class=\"row_heading level0 row4\" >lda</th>\n",
       "      <td id=\"T_8c1ed_row4_col0\" class=\"data row4 col0\" >Linear Discriminant Analysis</td>\n",
       "      <td id=\"T_8c1ed_row4_col1\" class=\"data row4 col1\" >0.8294</td>\n",
       "      <td id=\"T_8c1ed_row4_col2\" class=\"data row4 col2\" >0.9127</td>\n",
       "      <td id=\"T_8c1ed_row4_col3\" class=\"data row4 col3\" >0.8780</td>\n",
       "      <td id=\"T_8c1ed_row4_col4\" class=\"data row4 col4\" >0.8305</td>\n",
       "      <td id=\"T_8c1ed_row4_col5\" class=\"data row4 col5\" >0.8469</td>\n",
       "      <td id=\"T_8c1ed_row4_col6\" class=\"data row4 col6\" >0.6547</td>\n",
       "      <td id=\"T_8c1ed_row4_col7\" class=\"data row4 col7\" >0.6700</td>\n",
       "      <td id=\"T_8c1ed_row4_col8\" class=\"data row4 col8\" >0.0030</td>\n",
       "    </tr>\n",
       "    <tr>\n",
       "      <th id=\"T_8c1ed_level0_row5\" class=\"row_heading level0 row5\" >lightgbm</th>\n",
       "      <td id=\"T_8c1ed_row5_col0\" class=\"data row5 col0\" >Light Gradient Boosting Machine</td>\n",
       "      <td id=\"T_8c1ed_row5_col1\" class=\"data row5 col1\" >0.8251</td>\n",
       "      <td id=\"T_8c1ed_row5_col2\" class=\"data row5 col2\" >0.9049</td>\n",
       "      <td id=\"T_8c1ed_row5_col3\" class=\"data row5 col3\" >0.8424</td>\n",
       "      <td id=\"T_8c1ed_row5_col4\" class=\"data row5 col4\" >0.8452</td>\n",
       "      <td id=\"T_8c1ed_row5_col5\" class=\"data row5 col5\" >0.8388</td>\n",
       "      <td id=\"T_8c1ed_row5_col6\" class=\"data row5 col6\" >0.6469</td>\n",
       "      <td id=\"T_8c1ed_row5_col7\" class=\"data row5 col7\" >0.6558</td>\n",
       "      <td id=\"T_8c1ed_row5_col8\" class=\"data row5 col8\" >0.0050</td>\n",
       "    </tr>\n",
       "    <tr>\n",
       "      <th id=\"T_8c1ed_level0_row6\" class=\"row_heading level0 row6\" >gbc</th>\n",
       "      <td id=\"T_8c1ed_row6_col0\" class=\"data row6 col0\" >Gradient Boosting Classifier</td>\n",
       "      <td id=\"T_8c1ed_row6_col1\" class=\"data row6 col1\" >0.7972</td>\n",
       "      <td id=\"T_8c1ed_row6_col2\" class=\"data row6 col2\" >0.9007</td>\n",
       "      <td id=\"T_8c1ed_row6_col3\" class=\"data row6 col3\" >0.8280</td>\n",
       "      <td id=\"T_8c1ed_row6_col4\" class=\"data row6 col4\" >0.8232</td>\n",
       "      <td id=\"T_8c1ed_row6_col5\" class=\"data row6 col5\" >0.8177</td>\n",
       "      <td id=\"T_8c1ed_row6_col6\" class=\"data row6 col6\" >0.5903</td>\n",
       "      <td id=\"T_8c1ed_row6_col7\" class=\"data row6 col7\" >0.6052</td>\n",
       "      <td id=\"T_8c1ed_row6_col8\" class=\"data row6 col8\" >0.0120</td>\n",
       "    </tr>\n",
       "    <tr>\n",
       "      <th id=\"T_8c1ed_level0_row7\" class=\"row_heading level0 row7\" >nb</th>\n",
       "      <td id=\"T_8c1ed_row7_col0\" class=\"data row7 col0\" >Naive Bayes</td>\n",
       "      <td id=\"T_8c1ed_row7_col1\" class=\"data row7 col1\" >0.7913</td>\n",
       "      <td id=\"T_8c1ed_row7_col2\" class=\"data row7 col2\" >0.8489</td>\n",
       "      <td id=\"T_8c1ed_row7_col3\" class=\"data row7 col3\" >0.8167</td>\n",
       "      <td id=\"T_8c1ed_row7_col4\" class=\"data row7 col4\" >0.8056</td>\n",
       "      <td id=\"T_8c1ed_row7_col5\" class=\"data row7 col5\" >0.8067</td>\n",
       "      <td id=\"T_8c1ed_row7_col6\" class=\"data row7 col6\" >0.5778</td>\n",
       "      <td id=\"T_8c1ed_row7_col7\" class=\"data row7 col7\" >0.5845</td>\n",
       "      <td id=\"T_8c1ed_row7_col8\" class=\"data row7 col8\" >0.0030</td>\n",
       "    </tr>\n",
       "    <tr>\n",
       "      <th id=\"T_8c1ed_level0_row8\" class=\"row_heading level0 row8\" >ada</th>\n",
       "      <td id=\"T_8c1ed_row8_col0\" class=\"data row8 col0\" >Ada Boost Classifier</td>\n",
       "      <td id=\"T_8c1ed_row8_col1\" class=\"data row8 col1\" >0.7866</td>\n",
       "      <td id=\"T_8c1ed_row8_col2\" class=\"data row8 col2\" >0.8749</td>\n",
       "      <td id=\"T_8c1ed_row8_col3\" class=\"data row8 col3\" >0.8182</td>\n",
       "      <td id=\"T_8c1ed_row8_col4\" class=\"data row8 col4\" >0.8043</td>\n",
       "      <td id=\"T_8c1ed_row8_col5\" class=\"data row8 col5\" >0.8049</td>\n",
       "      <td id=\"T_8c1ed_row8_col6\" class=\"data row8 col6\" >0.5701</td>\n",
       "      <td id=\"T_8c1ed_row8_col7\" class=\"data row8 col7\" >0.5798</td>\n",
       "      <td id=\"T_8c1ed_row8_col8\" class=\"data row8 col8\" >0.0140</td>\n",
       "    </tr>\n",
       "    <tr>\n",
       "      <th id=\"T_8c1ed_level0_row9\" class=\"row_heading level0 row9\" >dt</th>\n",
       "      <td id=\"T_8c1ed_row9_col0\" class=\"data row9 col0\" >Decision Tree Classifier</td>\n",
       "      <td id=\"T_8c1ed_row9_col1\" class=\"data row9 col1\" >0.7264</td>\n",
       "      <td id=\"T_8c1ed_row9_col2\" class=\"data row9 col2\" >0.7254</td>\n",
       "      <td id=\"T_8c1ed_row9_col3\" class=\"data row9 col3\" >0.7508</td>\n",
       "      <td id=\"T_8c1ed_row9_col4\" class=\"data row9 col4\" >0.7580</td>\n",
       "      <td id=\"T_8c1ed_row9_col5\" class=\"data row9 col5\" >0.7460</td>\n",
       "      <td id=\"T_8c1ed_row9_col6\" class=\"data row9 col6\" >0.4502</td>\n",
       "      <td id=\"T_8c1ed_row9_col7\" class=\"data row9 col7\" >0.4599</td>\n",
       "      <td id=\"T_8c1ed_row9_col8\" class=\"data row9 col8\" >0.0040</td>\n",
       "    </tr>\n",
       "    <tr>\n",
       "      <th id=\"T_8c1ed_level0_row10\" class=\"row_heading level0 row10\" >knn</th>\n",
       "      <td id=\"T_8c1ed_row10_col0\" class=\"data row10 col0\" >K Neighbors Classifier</td>\n",
       "      <td id=\"T_8c1ed_row10_col1\" class=\"data row10 col1\" >0.6688</td>\n",
       "      <td id=\"T_8c1ed_row10_col2\" class=\"data row10 col2\" >0.7326</td>\n",
       "      <td id=\"T_8c1ed_row10_col3\" class=\"data row10 col3\" >0.7402</td>\n",
       "      <td id=\"T_8c1ed_row10_col4\" class=\"data row10 col4\" >0.6887</td>\n",
       "      <td id=\"T_8c1ed_row10_col5\" class=\"data row10 col5\" >0.7091</td>\n",
       "      <td id=\"T_8c1ed_row10_col6\" class=\"data row10 col6\" >0.3255</td>\n",
       "      <td id=\"T_8c1ed_row10_col7\" class=\"data row10 col7\" >0.3333</td>\n",
       "      <td id=\"T_8c1ed_row10_col8\" class=\"data row10 col8\" >0.0060</td>\n",
       "    </tr>\n",
       "    <tr>\n",
       "      <th id=\"T_8c1ed_level0_row11\" class=\"row_heading level0 row11\" >qda</th>\n",
       "      <td id=\"T_8c1ed_row11_col0\" class=\"data row11 col0\" >Quadratic Discriminant Analysis</td>\n",
       "      <td id=\"T_8c1ed_row11_col1\" class=\"data row11 col1\" >0.6606</td>\n",
       "      <td id=\"T_8c1ed_row11_col2\" class=\"data row11 col2\" >0.6649</td>\n",
       "      <td id=\"T_8c1ed_row11_col3\" class=\"data row11 col3\" >0.5955</td>\n",
       "      <td id=\"T_8c1ed_row11_col4\" class=\"data row11 col4\" >0.7656</td>\n",
       "      <td id=\"T_8c1ed_row11_col5\" class=\"data row11 col5\" >0.6422</td>\n",
       "      <td id=\"T_8c1ed_row11_col6\" class=\"data row11 col6\" >0.3237</td>\n",
       "      <td id=\"T_8c1ed_row11_col7\" class=\"data row11 col7\" >0.3465</td>\n",
       "      <td id=\"T_8c1ed_row11_col8\" class=\"data row11 col8\" >0.0030</td>\n",
       "    </tr>\n",
       "    <tr>\n",
       "      <th id=\"T_8c1ed_level0_row12\" class=\"row_heading level0 row12\" >svm</th>\n",
       "      <td id=\"T_8c1ed_row12_col0\" class=\"data row12 col0\" >SVM - Linear Kernel</td>\n",
       "      <td id=\"T_8c1ed_row12_col1\" class=\"data row12 col1\" >0.5619</td>\n",
       "      <td id=\"T_8c1ed_row12_col2\" class=\"data row12 col2\" >0.0000</td>\n",
       "      <td id=\"T_8c1ed_row12_col3\" class=\"data row12 col3\" >0.5720</td>\n",
       "      <td id=\"T_8c1ed_row12_col4\" class=\"data row12 col4\" >0.4359</td>\n",
       "      <td id=\"T_8c1ed_row12_col5\" class=\"data row12 col5\" >0.4662</td>\n",
       "      <td id=\"T_8c1ed_row12_col6\" class=\"data row12 col6\" >0.1351</td>\n",
       "      <td id=\"T_8c1ed_row12_col7\" class=\"data row12 col7\" >0.1612</td>\n",
       "      <td id=\"T_8c1ed_row12_col8\" class=\"data row12 col8\" >0.0030</td>\n",
       "    </tr>\n",
       "    <tr>\n",
       "      <th id=\"T_8c1ed_level0_row13\" class=\"row_heading level0 row13\" >dummy</th>\n",
       "      <td id=\"T_8c1ed_row13_col0\" class=\"data row13 col0\" >Dummy Classifier</td>\n",
       "      <td id=\"T_8c1ed_row13_col1\" class=\"data row13 col1\" >0.5472</td>\n",
       "      <td id=\"T_8c1ed_row13_col2\" class=\"data row13 col2\" >0.5000</td>\n",
       "      <td id=\"T_8c1ed_row13_col3\" class=\"data row13 col3\" >1.0000</td>\n",
       "      <td id=\"T_8c1ed_row13_col4\" class=\"data row13 col4\" >0.5472</td>\n",
       "      <td id=\"T_8c1ed_row13_col5\" class=\"data row13 col5\" >0.7071</td>\n",
       "      <td id=\"T_8c1ed_row13_col6\" class=\"data row13 col6\" >0.0000</td>\n",
       "      <td id=\"T_8c1ed_row13_col7\" class=\"data row13 col7\" >0.0000</td>\n",
       "      <td id=\"T_8c1ed_row13_col8\" class=\"data row13 col8\" >0.0020</td>\n",
       "    </tr>\n",
       "  </tbody>\n",
       "</table>\n"
      ],
      "text/plain": [
       "<pandas.io.formats.style.Styler at 0x188060ebd30>"
      ]
     },
     "metadata": {},
     "output_type": "display_data"
    },
    {
     "data": {
      "text/plain": [
       "LogisticRegression(C=1.0, class_weight=None, dual=False, fit_intercept=True,\n",
       "                   intercept_scaling=1, l1_ratio=None, max_iter=1000,\n",
       "                   multi_class='auto', n_jobs=None, penalty='l2',\n",
       "                   random_state=2136, solver='lbfgs', tol=0.0001, verbose=0,\n",
       "                   warm_start=False)"
      ]
     },
     "execution_count": 67,
     "metadata": {},
     "output_type": "execute_result"
    }
   ],
   "source": [
    "np.random.seed(4)\n",
    "compare_models()"
   ]
  },
  {
   "cell_type": "markdown",
   "id": "9005725c",
   "metadata": {},
   "source": [
    "#### Since we see that logistic regression gives the best scores we will proceed the project with our main model as logistic regression"
   ]
  },
  {
   "cell_type": "code",
   "execution_count": 83,
   "id": "e4b826ea",
   "metadata": {},
   "outputs": [],
   "source": [
    "# Importing the model from sklearn\n",
    "\n",
    "from sklearn.linear_model import LogisticRegression\n",
    "\n",
    "# Importing all the necessary libraries\n",
    "\n",
    "from sklearn.model_selection import train_test_split,cross_val_score\n",
    "from sklearn.model_selection import RandomizedSearchCV, GridSearchCV\n",
    "\n",
    "# Evaluation\n",
    "\n",
    "from sklearn.metrics import confusion_matrix,classification_report\n",
    "from sklearn.metrics import precision_score,recall_score,f1_score\n",
    "from sklearn.metrics import plot_roc_curve\n",
    "\n"
   ]
  },
  {
   "cell_type": "code",
   "execution_count": 72,
   "id": "093f41fd",
   "metadata": {},
   "outputs": [],
   "source": [
    "model = LogisticRegression()"
   ]
  },
  {
   "cell_type": "code",
   "execution_count": 73,
   "id": "0da2b6db",
   "metadata": {},
   "outputs": [],
   "source": [
    "# Splitting X and Y\n",
    "\n",
    "X = dataset.drop([\"target\"],axis = 1)\n",
    "Y = dataset[\"target\"]"
   ]
  },
  {
   "cell_type": "code",
   "execution_count": 74,
   "id": "661d86f0",
   "metadata": {},
   "outputs": [],
   "source": [
    "# Splitting the data into train and test\n",
    "\n",
    "np.random.seed(4)\n",
    "X_train,X_test,Y_train,Y_test = train_test_split(X,Y,test_size = 0.2)"
   ]
  },
  {
   "cell_type": "code",
   "execution_count": 75,
   "id": "d087b799",
   "metadata": {},
   "outputs": [
    {
     "name": "stdout",
     "output_type": "stream",
     "text": [
      "The Score of the model before tuning is :  91.8 %\n"
     ]
    }
   ],
   "source": [
    "model.fit(X_train,Y_train);\n",
    "\n",
    "print(\"The Score of the model before tuning is : \",round(model.score(X_test,Y_test)*100,2),\"%\")"
   ]
  },
  {
   "cell_type": "markdown",
   "id": "79b98716",
   "metadata": {},
   "source": [
    "## Hyperparameter tuning"
   ]
  },
  {
   "cell_type": "markdown",
   "id": "8e096477",
   "metadata": {},
   "source": [
    "### By RandomizedSearchCV"
   ]
  },
  {
   "cell_type": "code",
   "execution_count": 76,
   "id": "45e62e4d",
   "metadata": {
    "collapsed": true
   },
   "outputs": [
    {
     "name": "stdout",
     "output_type": "stream",
     "text": [
      "Fitting 10 folds for each of 20 candidates, totalling 200 fits\n"
     ]
    },
    {
     "name": "stderr",
     "output_type": "stream",
     "text": [
      "[Parallel(n_jobs=1)]: Using backend SequentialBackend with 1 concurrent workers.\n",
      "[Parallel(n_jobs=1)]: Done 200 out of 200 | elapsed:    2.1s finished\n"
     ]
    },
    {
     "data": {
      "text/plain": [
       "RandomizedSearchCV(cv=10, error_score=nan,\n",
       "                   estimator=LogisticRegression(C=1.0, class_weight=None,\n",
       "                                                dual=False, fit_intercept=True,\n",
       "                                                intercept_scaling=1,\n",
       "                                                l1_ratio=None, max_iter=100,\n",
       "                                                multi_class='auto', n_jobs=None,\n",
       "                                                penalty='l2', random_state=None,\n",
       "                                                solver='lbfgs', tol=0.0001,\n",
       "                                                verbose=0, warm_start=False),\n",
       "                   iid='deprecated', n_iter=20, n_jobs=None,\n",
       "                   param_distributions={'C'...\n",
       "       2.55954792e+01, 3.39322177e+01, 4.49843267e+01, 5.96362332e+01,\n",
       "       7.90604321e+01, 1.04811313e+02, 1.38949549e+02, 1.84206997e+02,\n",
       "       2.44205309e+02, 3.23745754e+02, 4.29193426e+02, 5.68986603e+02,\n",
       "       7.54312006e+02, 1.00000000e+03]),\n",
       "                                        'solver': ['newton-cg', 'liblinear']},\n",
       "                   pre_dispatch='2*n_jobs', random_state=None, refit=True,\n",
       "                   return_train_score=False, scoring=None, verbose=True)"
      ]
     },
     "execution_count": 76,
     "metadata": {},
     "output_type": "execute_result"
    }
   ],
   "source": [
    "# Create Hyperparameter grid for Logistic Regression \n",
    "\n",
    "log_reg_grid = {\"C\":np.logspace(-3,3,50),\n",
    "                \"solver\":['newton-cg', 'liblinear' ]}\n",
    "\n",
    "# \"penalty\":['l1', 'l2', 'elasticnet', 'none']\n",
    "\n",
    "# Tune LogisticRegression\n",
    "\n",
    "np.random.seed(4)\n",
    "\n",
    "rsCV_log_reg = RandomizedSearchCV(LogisticRegression(),\n",
    "                                 param_distributions=log_reg_grid,\n",
    "                                 cv = 10,\n",
    "                                 n_iter = 20,\n",
    "                                  verbose = True)\n",
    "\n",
    "rsCV_log_reg.fit(X_train,Y_train)"
   ]
  },
  {
   "cell_type": "code",
   "execution_count": 77,
   "id": "5bbaa2fc",
   "metadata": {},
   "outputs": [
    {
     "name": "stdout",
     "output_type": "stream",
     "text": [
      "The Accuracy of this model after tuning is: 93.44 %\n",
      "The best parameter after tuning are:  {'solver': 'liblinear', 'C': 0.655128556859551}\n"
     ]
    }
   ],
   "source": [
    "print(\"The Accuracy of this model after tuning is:\",round(rsCV_log_reg.score(X_test,Y_test)*100,2),\"%\") \n",
    "print(\"The best parameter after tuning are: \",rsCV_log_reg.best_params_)\n"
   ]
  },
  {
   "cell_type": "markdown",
   "id": "e7593d3f",
   "metadata": {},
   "source": [
    "### By GridSearchCV"
   ]
  },
  {
   "cell_type": "code",
   "execution_count": 80,
   "id": "f31dafe8",
   "metadata": {
    "collapsed": true
   },
   "outputs": [
    {
     "name": "stdout",
     "output_type": "stream",
     "text": [
      "Fitting 10 folds for each of 400 candidates, totalling 4000 fits\n"
     ]
    },
    {
     "name": "stderr",
     "output_type": "stream",
     "text": [
      "[Parallel(n_jobs=1)]: Using backend SequentialBackend with 1 concurrent workers.\n",
      "[Parallel(n_jobs=1)]: Done 4000 out of 4000 | elapsed:  1.1min finished\n"
     ]
    },
    {
     "data": {
      "text/plain": [
       "GridSearchCV(cv=10, error_score=nan,\n",
       "             estimator=LogisticRegression(C=1.0, class_weight=None, dual=False,\n",
       "                                          fit_intercept=True,\n",
       "                                          intercept_scaling=1, l1_ratio=None,\n",
       "                                          max_iter=100, multi_class='auto',\n",
       "                                          n_jobs=None, penalty='l2',\n",
       "                                          random_state=None, solver='lbfgs',\n",
       "                                          tol=0.0001, verbose=0,\n",
       "                                          warm_start=False),\n",
       "             iid='deprecated', n_jobs=None,\n",
       "             param_grid={'C': array([1.00000000e-03, 1....\n",
       "       2.55954792e+01, 3.39322177e+01, 4.49843267e+01, 5.96362332e+01,\n",
       "       7.90604321e+01, 1.04811313e+02, 1.38949549e+02, 1.84206997e+02,\n",
       "       2.44205309e+02, 3.23745754e+02, 4.29193426e+02, 5.68986603e+02,\n",
       "       7.54312006e+02, 1.00000000e+03]),\n",
       "                         'penalty': ['l1', 'l2', 'elasticnet', 'none'],\n",
       "                         'solver': ['newton-cg', 'liblinear']},\n",
       "             pre_dispatch='2*n_jobs', refit=True, return_train_score=False,\n",
       "             scoring=None, verbose=True)"
      ]
     },
     "execution_count": 80,
     "metadata": {},
     "output_type": "execute_result"
    }
   ],
   "source": [
    "# Create Hyperparameter grid for Logistic Regression \n",
    "\n",
    "log_reg_grid = {\"C\":np.logspace(-3,3,50),\n",
    "                \"solver\":['newton-cg', 'liblinear' ],\n",
    "               \"penalty\":['l1', 'l2', 'elasticnet', 'none']}\n",
    "\n",
    "\n",
    "\n",
    "# Tune LogisticRegression(GridSearchCV)\n",
    "\n",
    "\n",
    "gsCV_log_reg  = GridSearchCV(LogisticRegression(),\n",
    "                          param_grid=log_reg_grid,\n",
    "                          cv = 10,\n",
    "                          verbose = True)\n",
    "\n",
    "gsCV_log_reg.fit(X_train,Y_train)"
   ]
  },
  {
   "cell_type": "code",
   "execution_count": 81,
   "id": "38008ab3",
   "metadata": {},
   "outputs": [
    {
     "name": "stdout",
     "output_type": "stream",
     "text": [
      "The score of this model using this method is 91.8 %\n",
      "The best parameter for this model is: {'C': 0.15998587196060574, 'penalty': 'l2', 'solver': 'newton-cg'}\n"
     ]
    }
   ],
   "source": [
    "print(\"The score of this model using this method is\",round(gsCV_log_reg.score(X_test,Y_test)*100,2),\"%\")\n",
    "print(\"The best parameter for this model is:\",gsCV_log_reg.best_params_)"
   ]
  },
  {
   "cell_type": "markdown",
   "id": "cb54bea8",
   "metadata": {},
   "source": [
    "### ROC curve and AUC metric"
   ]
  },
  {
   "cell_type": "code",
   "execution_count": 85,
   "id": "5e775017",
   "metadata": {},
   "outputs": [
    {
     "data": {
      "image/png": "[encoded data removed]",
      "text/plain": [
       "<Figure size 576x396 with 1 Axes>"
      ]
     },
     "metadata": {},
     "output_type": "display_data"
    }
   ],
   "source": [
    "# Plot ROC curve and calculate AUC metric\n",
    "\n",
    "plot_roc_curve(rsCV_log_reg,X_test,Y_test,name = \"LogisticRegressor\");"
   ]
  },
  {
   "cell_type": "markdown",
   "id": "3b0b3523",
   "metadata": {},
   "source": [
    "### Confusion Matrix"
   ]
  },
  {
   "cell_type": "code",
   "execution_count": 86,
   "id": "b3205cb8",
   "metadata": {},
   "outputs": [],
   "source": [
    "# Create a function for confusion_matrix\n",
    "\n",
    "def plot_conf_mat(Y_test,y_preds,Title):\n",
    "    \n",
    "    sns.set(font_scale = 1.5)\n",
    "    \"\"\"\n",
    "    Plots a confusion matric based on sns heatmap\n",
    "    \n",
    "    \"\"\"\n",
    "    \n",
    "    fig,ax = plt.subplots(figsize = (5,4))\n",
    "    \n",
    "    ax = sns.heatmap(confusion_matrix(Y_test,y_preds),\n",
    "                    annot = True)\n",
    "    plt.xlabel(\"True Label\")\n",
    "    plt.ylabel(\"Predicted label \")\n",
    "    plt.title(Title)"
   ]
  },
  {
   "cell_type": "code",
   "execution_count": 87,
   "id": "8ca6a92c",
   "metadata": {},
   "outputs": [
    {
     "data": {
      "image/png": "[encoded data removed]",
      "text/plain": [
       "<Figure size 360x288 with 2 Axes>"
      ]
     },
     "metadata": {},
     "output_type": "display_data"
    }
   ],
   "source": [
    "# plotting confusion matrix(LogisticRegression)\n",
    "\n",
    "Title1 = \"Confusion matrix for LogisticRegression\\n\"\n",
    "\n",
    "y_preds_lof_reg = rsCV_log_reg.predict(X_test)\n",
    "\n",
    "plot_conf_mat(Y_test,y_preds_lof_reg,Title1)"
   ]
  },
  {
   "cell_type": "markdown",
   "id": "0216adf1",
   "metadata": {},
   "source": [
    "## Classification Report as well as cross-validated precision,recall, and F10-score"
   ]
  },
  {
   "cell_type": "code",
   "execution_count": 90,
   "id": "7e7a373e",
   "metadata": {},
   "outputs": [
    {
     "name": "stdout",
     "output_type": "stream",
     "text": [
      "-Classification Report for Logistic Regression model\n",
      "               precision    recall  f1-score   support\n",
      "\n",
      "  No Disease       0.92      0.92      0.92        25\n",
      "     Disease       0.94      0.94      0.94        36\n",
      "\n",
      "    accuracy                           0.93        61\n",
      "   macro avg       0.93      0.93      0.93        61\n",
      "weighted avg       0.93      0.93      0.93        61\n",
      "\n"
     ]
    }
   ],
   "source": [
    "names = ['No Disease','Disease']\n",
    "print(\"-Classification Report for Logistic Regression model\\n\",classification_report(Y_test,y_preds_lof_reg,target_names=names))\n"
   ]
  },
  {
   "cell_type": "markdown",
   "id": "cc6d2f9e",
   "metadata": {},
   "source": [
    "### Calculate evaluation metrics using cross-validation\n",
    "\n",
    "We are going to calculate accuracy,precision,recall and F1 score of our model using cross_validation"
   ]
  },
  {
   "cell_type": "code",
   "execution_count": 91,
   "id": "2754adcd",
   "metadata": {},
   "outputs": [],
   "source": [
    "# Function for cross-validation for accuracy,precision,recall and f1 score\n",
    "\n",
    "def c_metrics(model,cv_value):\n",
    "    \n",
    "    \"\"\"\n",
    "    A function to calculate cross-validated classification matrix for any machine learning model\n",
    "    \n",
    "    \"\"\"\n",
    "    # Cross-validated accuracy\n",
    "    cv_acc = cross_val_score(model,X,Y,cv = cv_value,scoring = 'accuracy')\n",
    "    cv_acc = np.mean(cv_acc)\n",
    "    \n",
    "    # Cross-validated Precision\n",
    "    cv_pre = cross_val_score(model,X,Y,cv = cv_value,scoring = 'precision')\n",
    "    cv_pre = np.mean(cv_pre)\n",
    "    \n",
    "    # Cross-valiated Recall\n",
    "    cv_recall = cross_val_score(model,X,Y,cv = cv_value,scoring = 'recall')\n",
    "    cv_recall = np.mean(cv_recall)\n",
    "    \n",
    "    # Cross-validated F1\n",
    "    cv_f1 = cross_val_score(model,X,Y,cv = cv_value,scoring = 'f1')\n",
    "    cv_f1 = np.mean(cv_f1)\n",
    "    \n",
    "    # Cross-validated metrix\n",
    "    cv_metrics = pd.DataFrame({\"Accuracy\":cv_acc,\n",
    "                          \"Precision\":cv_pre,\n",
    "                          \"Recall\":cv_recall,\n",
    "                          \"F1\":cv_f1},index=[0])\n",
    "    cv_metrics.T.plot.bar(title = \"Cross-validated classification matrix\",\n",
    "                      figsize = (10,6),\n",
    "                      color = \"Seagreen\",\n",
    "                      legend = False)"
   ]
  },
  {
   "cell_type": "code",
   "execution_count": 97,
   "id": "a0d7c8a8",
   "metadata": {},
   "outputs": [
    {
     "data": {
      "image/png": "[encoded data removed]",
      "text/plain": [
       "<Figure size 720x432 with 1 Axes>"
      ]
     },
     "metadata": {},
     "output_type": "display_data"
    }
   ],
   "source": [
    "model = LogisticRegression(solver = 'liblinear', C = 0.655128556859551)\n",
    "\n",
    "c_metrics(model,10)"
   ]
  },
  {
   "cell_type": "code",
   "execution_count": 98,
   "id": "aacaee64",
   "metadata": {},
   "outputs": [
    {
     "data": {
      "image/png": "[encoded data removed]",
      "text/plain": [
       "<Figure size 720x432 with 1 Axes>"
      ]
     },
     "metadata": {},
     "output_type": "display_data"
    }
   ],
   "source": [
    "model = LogisticRegression(C = 0.15998587196060574, penalty = 'l2', solver = 'newton-cg')\n",
    "\n",
    "c_metrics(model,10)"
   ]
  },
  {
   "cell_type": "markdown",
   "id": "2cd9e8a7",
   "metadata": {},
   "source": [
    "### Feature Importance\n",
    "\n",
    "Feature importance is asking ,\"Which features contributed most to the outcome of a model and how did they contribute\"\n",
    "\n",
    "Lets find the feature importance of LogisticRegression model"
   ]
  },
  {
   "cell_type": "code",
   "execution_count": 101,
   "id": "bd66a85c",
   "metadata": {},
   "outputs": [],
   "source": [
    "model = LogisticRegression(C = 0.15998587196060574, penalty = 'l2', solver = 'newton-cg')\n",
    "model.fit(X_train,Y_train);"
   ]
  },
  {
   "cell_type": "code",
   "execution_count": 110,
   "id": "768fc42e",
   "metadata": {},
   "outputs": [
    {
     "data": {
      "image/png": "[encoded data removed]",
      "text/plain": [
       "<Figure size 1080x432 with 1 Axes>"
      ]
     },
     "metadata": {},
     "output_type": "display_data"
    }
   ],
   "source": [
    "feature_dict = dict(zip(dataset.columns,list(model.coef_[0])))\n",
    "feature_df = pd.DataFrame(feature_dict,index=[0])\n",
    "feature_df.T.plot.bar(title = \"Feature Importance\",legend = False,figsize = (15,6));"
   ]
  },
  {
   "cell_type": "code",
   "execution_count": 103,
   "id": "92f8e797",
   "metadata": {
    "collapsed": true
   },
   "outputs": [
    {
     "name": "stdout",
     "output_type": "stream",
     "text": [
      "Transformation Pipeline and Model Successfully Saved\n"
     ]
    },
    {
     "data": {
      "text/plain": [
       "(Pipeline(memory=None,\n",
       "          steps=[('dtypes',\n",
       "                  DataTypes_Auto_infer(categorical_features=[],\n",
       "                                       display_types=True, features_todrop=[],\n",
       "                                       id_columns=[],\n",
       "                                       ml_usecase='classification',\n",
       "                                       numerical_features=[], target='target',\n",
       "                                       time_features=[])),\n",
       "                 ('imputer',\n",
       "                  Simple_Imputer(categorical_strategy='not_available',\n",
       "                                 fill_value_categorical=None,\n",
       "                                 fill_value_numerical=None,\n",
       "                                 numeric_strat...\n",
       "                 ('feature_select', 'passthrough'), ('fix_multi', 'passthrough'),\n",
       "                 ('dfs', 'passthrough'), ('pca', 'passthrough'),\n",
       "                 ['trained_model',\n",
       "                  LogisticRegression(C=0.15998587196060574, class_weight=None,\n",
       "                                     dual=False, fit_intercept=True,\n",
       "                                     intercept_scaling=1, l1_ratio=None,\n",
       "                                     max_iter=100, multi_class='auto',\n",
       "                                     n_jobs=None, penalty='l2',\n",
       "                                     random_state=None, solver='newton-cg',\n",
       "                                     tol=0.0001, verbose=0, warm_start=False)]],\n",
       "          verbose=False),\n",
       " 'Linear-Regression.pkl')"
      ]
     },
     "execution_count": 103,
     "metadata": {},
     "output_type": "execute_result"
    }
   ],
   "source": [
    "save_model(model, model_name='Linear-Regression')"
   ]
  }
 ],
 "metadata": {
  "kernelspec": {
   "display_name": "Python 3 (ipykernel)",
   "language": "python",
   "name": "python3"
  },
  "language_info": {
   "codemirror_mode": {
    "name": "ipython",
    "version": 3
   },
   "file_extension": ".py",
   "mimetype": "text/x-python",
   "name": "python",
   "nbconvert_exporter": "python",
   "pygments_lexer": "ipython3",
   "version": "3.8.13"
  }
 },
 "nbformat": 4,
 "nbformat_minor": 5
}
